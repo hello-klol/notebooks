{
 "cells": [
  {
   "cell_type": "markdown",
   "metadata": {},
   "source": [
    "<p class=\"info\">In the <a href=\"/2018/08/23/Reinforcement-Learning-In-Plain-English/\" target=\"_blank\">previous post</a> I introduced Reinforcement Learning and gave an overview of how it works in plain English. Next, let's look at how to write this definition as a mathematical problem.</p>"
   ]
  },
  {
   "cell_type": "markdown",
   "metadata": {},
   "source": [
    "## Mathematically Formalising the Problem"
   ]
  },
  {
   "cell_type": "markdown",
   "metadata": {},
   "source": [
    "To solve the problem we need to define the problem! The animated loop shown below can be written using a mathematical formulation known as the Markov decision process (MDP)."
   ]
  },
  {
   "cell_type": "markdown",
   "metadata": {},
   "source": [
    "<img src=\"/images/reinforcement/reinforcement-loop.gif\" alt=\"The Reinforcement Learning Loop\" title=\"Weeee\">"
   ]
  },
  {
   "cell_type": "markdown",
   "metadata": {},
   "source": [
    "An MDP satisfies the Markov property, which is that the current state completely characterizes the state of the world. Bear with me.."
   ]
  },
  {
   "cell_type": "markdown",
   "metadata": {},
   "source": [
    "### MDP Object Definitions"
   ]
  },
  {
   "cell_type": "markdown",
   "metadata": {},
   "source": [
    "An MDP is defined by tuple of objects, consisting of:\n",
    "\n",
    "- $\\mathcal{S}$, which is the *set of possible states*. \n",
    "- $\\mathcal{A}$, our *set of possible actions*.\n",
    "- $\\mathcal{R}$, our *distribution of our reward*, given a state-action pair. So it's a function mapping from state-action $\\mapsto$ reward. \n",
    "- $\\mathbb{P}$, which is a *transition probability distribution* over your next state, that you're going to transition to given your state-action pair.\n",
    "- $\\gamma$, a *discount factor*, which is basically saying *how much we value rewards coming up soon versus later on*."
   ]
  },
  {
   "cell_type": "markdown",
   "metadata": {},
   "source": [
    "### MDP Process"
   ]
  },
  {
   "cell_type": "markdown",
   "metadata": {},
   "source": [
    "- At time step $t=0$, the environment samples the initial state $s_0 \\sim p(s_0)$\n",
    "- For $t=0$ until done (terminal state):\n",
    "    - Agent selects an action, $a_t$\n",
    "    - Environment samples a reward, $r_t \\sim R( . | s_t, a_t)$\n",
    "    - Environment samples the next state, $s_{t+1} \\sim P( . | s_t, a_t)$\n",
    "    - Agent receives the reward, $r_t$, and next state, $s_{t+1}$"
   ]
  },
  {
   "cell_type": "markdown",
   "metadata": {},
   "source": [
    "🚨 **New lingo:**\n",
    "A policy, $\\pi$, is a function that specifies what action to take in each state."
   ]
  },
  {
   "cell_type": "markdown",
   "metadata": {},
   "source": [
    "So our objective can be redefined as:\n",
    "Find the optimal policy, $\\pi^*$, that maximises the cumulative (discounted) reward.\n",
    "\n",
    "The term \"discounted\" is included here as we want to take into account our discount factor, $\\gamma$, which balances how we value immediate vs. long term rewards."
   ]
  },
  {
   "cell_type": "markdown",
   "metadata": {},
   "source": [
    "This objective can be formulated as:\n",
    "$$\\max\\sum\\limits_{t \\ge 0} \\gamma^t r_t$$"
   ]
  },
  {
   "cell_type": "markdown",
   "metadata": {},
   "source": [
    "#### What about randomness?"
   ]
  },
  {
   "cell_type": "markdown",
   "metadata": {},
   "source": [
    "How do we handle randomness? We have randomness in terms of the initial state that we're sampling, and in terms of this transistion probability distribution that will give us distributions over next states, and so on."
   ]
  },
  {
   "cell_type": "markdown",
   "metadata": {},
   "source": [
    "So we need to maximise the _expected_ sum of rewards."
   ]
  },
  {
   "cell_type": "markdown",
   "metadata": {},
   "source": [
    "The optimal policy, $\\pi^*$, is the policy which maximises this reward:\n",
    "$$\\pi^* = \\arg\\max_{\\pi}\\mathbb{E}\\left[\\sum\\limits_{t \\ge 0} \\gamma^t r_t|\\pi\\right]$$ \n",
    "with\n",
    "$$s_0 \\sim p(s_0), a_t \\sim \\pi(\\cdot|s_t), s_{t+1} \\sim p(\\cdot|s_t,a_t)$$"
   ]
  },
  {
   "cell_type": "markdown",
   "metadata": {},
   "source": [
    "<p class=\"sidenote\">Note: $\\mathbb{E}$ represents the expected value of a random variable</p>"
   ]
  },
  {
   "cell_type": "markdown",
   "metadata": {},
   "source": [
    "We can write our optimal policy $\\pi^*$ as maximizing the expected sum of future rewards over\n",
    "policy's $\\Pi$, where\n",
    "- initial state, $s_0$, is sampled from our state distribution\n",
    "- action, $a_t$, is sampled from our policy, given the state\n",
    "- next state, $s_{t+1}$, is sampled from our transition probability distributions"
   ]
  }
 ],
 "metadata": {
  "kernelspec": {
   "display_name": "Bash",
   "language": "bash",
   "name": "bash"
  },
  "language_info": {
   "codemirror_mode": "shell",
   "file_extension": ".sh",
   "mimetype": "text/x-sh",
   "name": "bash"
  }
 },
 "nbformat": 4,
 "nbformat_minor": 2
}
