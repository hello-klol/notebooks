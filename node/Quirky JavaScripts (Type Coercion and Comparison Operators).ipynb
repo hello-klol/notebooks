{
 "cells": [
  {
   "cell_type": "markdown",
   "metadata": {},
   "source": [
    "<div class=\"info\">\n",
    "I'm working my way through the points in this <a href=\"https://medium.com/@steCoersionphenthecurt/33-fundamentals-every-javascript-developer-should-know-13dd720a90d1\" rel=\"external\" target=\"_blank\">list of 33 fundamentals every JavaScript developer should know</a> in order to make sure I understand the language thoroughly. \n",
    "    \n",
    "This notebook is for working through code relating to points 4 and 5.\n",
    "</div>"
   ]
  },
  {
   "cell_type": "markdown",
   "metadata": {},
   "source": [
    "<a href=\"https://www.youtube.com/watch?v=qGyqzN0bjhc&t=\" rel=\"external\" target=\"_blank\">Here's a cool talk</a> about everything I've written notes on below."
   ]
  },
  {
   "cell_type": "markdown",
   "metadata": {},
   "source": [
    "<a href=\"https://dorey.github.io/JavaScript-Equality-Table/\" rel=\"external\" target=\"_blank\">Here's a cool table</a> that demonstrates type comparison for `==` and `===`. It also shows `if` statement type-coercion."
   ]
  },
  {
   "cell_type": "markdown",
   "metadata": {},
   "source": [
    "<a href=\"https://developer.mozilla.org/en-US/docs/Web/JavaScript/Reference/Operators/Comparison_Operators\" rel=\"external\" target=\"_blank\">Here's what Mozilla have to say</a> about comparison operators (relational & equality as described below)"
   ]
  },
  {
   "cell_type": "markdown",
   "metadata": {},
   "source": [
    "# Type Coercion"
   ]
  },
  {
   "cell_type": "markdown",
   "metadata": {},
   "source": [
    "JavaScript is dynamically typed and uses type coercion for comparison of variables. This affects how boolean statements are evaluated, and how equality operators work."
   ]
  },
  {
   "cell_type": "markdown",
   "metadata": {},
   "source": [
    "## Truthy Falsy Values"
   ]
  },
  {
   "cell_type": "markdown",
   "metadata": {},
   "source": [
    "JavaScript implicitly converts values to booleans when used in statements that expect booleans (`if`, `for`, `while`, `do-while`)"
   ]
  },
  {
   "cell_type": "markdown",
   "metadata": {},
   "source": [
    "**Note:** `switch` statements don't expect booleans necessarily so no type coercion is applied."
   ]
  },
  {
   "cell_type": "code",
   "execution_count": 1,
   "metadata": {},
   "outputs": [],
   "source": [
    "function printIsTruthy(value) {\n",
    "    printStatement = (value) ? `${value} is truthy` : `${value} is falsy`\n",
    "    console.log(printStatement)\n",
    "}"
   ]
  },
  {
   "cell_type": "markdown",
   "metadata": {},
   "source": [
    "#### Numeric values:"
   ]
  },
  {
   "cell_type": "code",
   "execution_count": 2,
   "metadata": {},
   "outputs": [
    {
     "name": "stdout",
     "output_type": "stream",
     "text": [
      "123 is truthy\n",
      "0 is falsy\n",
      "-1 is truthy\n",
      "NaN is falsy\n"
     ]
    }
   ],
   "source": [
    "printIsTruthy(123)\n",
    "printIsTruthy(0)\n",
    "printIsTruthy(-1)\n",
    "printIsTruthy(NaN)"
   ]
  },
  {
   "cell_type": "markdown",
   "metadata": {},
   "source": [
    "#### String values"
   ]
  },
  {
   "cell_type": "code",
   "execution_count": 3,
   "metadata": {},
   "outputs": [
    {
     "name": "stdout",
     "output_type": "stream",
     "text": [
      "abc is truthy\n",
      " is falsy\n"
     ]
    }
   ],
   "source": [
    "printIsTruthy('abc')\n",
    "printIsTruthy('')"
   ]
  },
  {
   "cell_type": "markdown",
   "metadata": {},
   "source": [
    "#### Null and Undefined"
   ]
  },
  {
   "cell_type": "code",
   "execution_count": 4,
   "metadata": {},
   "outputs": [
    {
     "name": "stdout",
     "output_type": "stream",
     "text": [
      "null is falsy\n",
      "undefined is falsy\n"
     ]
    }
   ],
   "source": [
    "printIsTruthy(null)\n",
    "printIsTruthy(undefined)"
   ]
  },
  {
   "cell_type": "markdown",
   "metadata": {},
   "source": [
    "#### Collections"
   ]
  },
  {
   "cell_type": "code",
   "execution_count": 5,
   "metadata": {},
   "outputs": [
    {
     "name": "stdout",
     "output_type": "stream",
     "text": [
      "[object Object] is truthy\n",
      " is truthy\n"
     ]
    }
   ],
   "source": [
    "printIsTruthy({}) // object\n",
    "printIsTruthy([]) // array"
   ]
  },
  {
   "cell_type": "markdown",
   "metadata": {},
   "source": [
    "## Logical Operators"
   ]
  },
  {
   "cell_type": "markdown",
   "metadata": {},
   "source": [
    "Logical operators `&&` `||` will implicitly convert operands to booleans (depending on the context) but the operand value itself is returned - not the converted boolean value."
   ]
  },
  {
   "cell_type": "code",
   "execution_count": 6,
   "metadata": {},
   "outputs": [],
   "source": [
    "var value = 0 || 'abc'"
   ]
  },
  {
   "cell_type": "code",
   "execution_count": 7,
   "metadata": {},
   "outputs": [
    {
     "name": "stdout",
     "output_type": "stream",
     "text": [
      "abc\n"
     ]
    }
   ],
   "source": [
    "console.log(value)"
   ]
  },
  {
   "cell_type": "markdown",
   "metadata": {},
   "source": [
    "This trick is sometimes used for setting default values - the `or` operator is looking from left-to-right for the first `true` operand to return. \n",
    "\n",
    "0 is falsy so is not returned, the non-empty string is truthy and so is returned and used to set the variable."
   ]
  },
  {
   "cell_type": "markdown",
   "metadata": {},
   "source": [
    "## Mathematical Operators + String Concatenation"
   ]
  },
  {
   "cell_type": "markdown",
   "metadata": {},
   "source": [
    "When creating calculations using `+` `-` `/` `*` `%` values are implicitly converted to numbers. (Except dates - which are converted to Strings...?!)"
   ]
  },
  {
   "cell_type": "code",
   "execution_count": 8,
   "metadata": {},
   "outputs": [
    {
     "name": "stdout",
     "output_type": "stream",
     "text": [
      "4\n"
     ]
    }
   ],
   "source": [
    "var value = true + null + 3\n",
    "console.log(value)"
   ]
  },
  {
   "cell_type": "markdown",
   "metadata": {},
   "source": [
    "In this example `true` has been converted to 1, `null` has been converted to 0, and 3 is obviously 3"
   ]
  },
  {
   "cell_type": "markdown",
   "metadata": {},
   "source": [
    "Since `+` is used for both addition of numbers and concatenation of strings (i.e. it is overloaded) there's extra quirks to be aware of."
   ]
  },
  {
   "cell_type": "code",
   "execution_count": 9,
   "metadata": {},
   "outputs": [
    {
     "name": "stdout",
     "output_type": "stream",
     "text": [
      "30\n"
     ]
    }
   ],
   "source": [
    "var value = '3' + 0\n",
    "console.log(value)"
   ]
  },
  {
   "cell_type": "markdown",
   "metadata": {},
   "source": [
    "Since the code is evaluated and executed from left to right - the statement will first be treated as a mathematical statement - it will convert any non-string values to integers and apply mathematical operations - but as soon as it hits a string the values will start to be converted to strings and the `+` operator becomes a string concatenation."
   ]
  },
  {
   "cell_type": "code",
   "execution_count": 10,
   "metadata": {},
   "outputs": [
    {
     "name": "stdout",
     "output_type": "stream",
     "text": [
      "13false\n"
     ]
    }
   ],
   "source": [
    "var value = 0 + 1 + '3' + false\n",
    "console.log(value)"
   ]
  },
  {
   "cell_type": "code",
   "execution_count": 11,
   "metadata": {},
   "outputs": [
    {
     "name": "stdout",
     "output_type": "stream",
     "text": [
      "4345true\n"
     ]
    }
   ],
   "source": [
    "var value = true + 1 + 2 + '3' + 4 + 5 + true\n",
    "console.log(value)"
   ]
  },
  {
   "cell_type": "markdown",
   "metadata": {},
   "source": [
    "# Comparison Operators"
   ]
  },
  {
   "cell_type": "markdown",
   "metadata": {},
   "source": [
    "## Relational Operators"
   ]
  },
  {
   "cell_type": "markdown",
   "metadata": {},
   "source": [
    "When performing comparisons `>` `<` `>=` `<=` all values are implicitly converted to numbers (including dates)"
   ]
  },
  {
   "cell_type": "markdown",
   "metadata": {},
   "source": [
    "**Exception:** strings are compared using lexicographical string comparison (alphabetical order)"
   ]
  },
  {
   "cell_type": "markdown",
   "metadata": {},
   "source": [
    "**Note:** Any comparison involving `NaN` will evaluate to `false`"
   ]
  },
  {
   "cell_type": "code",
   "execution_count": 12,
   "metadata": {},
   "outputs": [
    {
     "name": "stdout",
     "output_type": "stream",
     "text": [
      "true\n"
     ]
    }
   ],
   "source": [
    "var value = false < '123'\n",
    "console.log(value)"
   ]
  },
  {
   "cell_type": "markdown",
   "metadata": {},
   "source": [
    "`false` has been converted to 0 to be used in the `<` comparison, and the string has been converted to a number."
   ]
  },
  {
   "cell_type": "code",
   "execution_count": 13,
   "metadata": {},
   "outputs": [
    {
     "data": {
      "text/plain": [
       "false"
      ]
     },
     "execution_count": 13,
     "metadata": {},
     "output_type": "execute_result"
    }
   ],
   "source": [
    "false + true > '0' + 2"
   ]
  },
  {
   "cell_type": "markdown",
   "metadata": {},
   "source": [
    "In this case the string concatenation seems to convert values to numerics before performing the comparison"
   ]
  },
  {
   "cell_type": "code",
   "execution_count": 14,
   "metadata": {},
   "outputs": [
    {
     "data": {
      "text/plain": [
       "false"
      ]
     },
     "execution_count": 14,
     "metadata": {},
     "output_type": "execute_result"
    }
   ],
   "source": [
    "'0' + 2 < false + true"
   ]
  },
  {
   "cell_type": "markdown",
   "metadata": {},
   "source": [
    "## Equality Operators"
   ]
  },
  {
   "cell_type": "markdown",
   "metadata": {},
   "source": [
    "In JavaScript, values are considered equal if they are:\n",
    " - identical boolean values\n",
    " - identical strings\n",
    " - ... any primitives of the same value\n",
    " - numerically equivalent (as in +0 == -0)\n",
    " - a reference to the same object / array / reference value\n",
    "\n",
    "`NaN` is not equal to anything - including itself\n",
    "\n",
    "Two distinct objects are never equal for either strict or abstract comparisons"
   ]
  },
  {
   "cell_type": "markdown",
   "metadata": {},
   "source": [
    "`==` applies type-coercion first if the types are different, then checks for equality. It uses something called the <a href=\"http://www.ecma-international.org/ecma-262/5.1/#sec-11.9.3\" rel=\"external\" target=\"_blank\">\"abstract equality comparison algorothm\"</a>, a series of 22 steps to determine equality."
   ]
  },
  {
   "cell_type": "markdown",
   "metadata": {},
   "source": [
    "We know that `null` is converted to 0 when used with mathematical or comparison operators. So you would think it would be converted to 0 in the `==` equality check."
   ]
  },
  {
   "cell_type": "code",
   "execution_count": 15,
   "metadata": {},
   "outputs": [
    {
     "name": "stdout",
     "output_type": "stream",
     "text": [
      "false\n"
     ]
    }
   ],
   "source": [
    "var value = (null == 0)\n",
    "console.log(value)"
   ]
  },
  {
   "cell_type": "markdown",
   "metadata": {},
   "source": [
    "`null` is only coerced as `undefined` when using the `==` operator"
   ]
  },
  {
   "cell_type": "markdown",
   "metadata": {},
   "source": [
    "There are other strange outputs from using the `==` operator - they can be explained by looking at the abstract equality comparison algorithm\" but in short it doesn't always return what's expected.\n",
    "\n",
    "When using JavaScript it's safest to always use the `===` operator unless you have a specific reason for using `==`"
   ]
  },
  {
   "cell_type": "markdown",
   "metadata": {},
   "source": [
    "`===` doesn't apply type-coercion and uses the \"strict equality algorithm\"."
   ]
  },
  {
   "cell_type": "markdown",
   "metadata": {},
   "source": [
    "### Testing out some stuff"
   ]
  },
  {
   "cell_type": "markdown",
   "metadata": {},
   "source": [
    "#### Object equality"
   ]
  },
  {
   "cell_type": "markdown",
   "metadata": {},
   "source": [
    "It was mentioned above but just to demonstrate to myself:\n",
    "\n",
    "Checking if two objects are equal using `==` and `===`"
   ]
  },
  {
   "cell_type": "code",
   "execution_count": 16,
   "metadata": {},
   "outputs": [],
   "source": [
    "var obj1 = {'value':'blah'}\n",
    "var obj2 = {'value':'blah'}"
   ]
  },
  {
   "cell_type": "code",
   "execution_count": 17,
   "metadata": {},
   "outputs": [
    {
     "data": {
      "text/plain": [
       "false"
      ]
     },
     "execution_count": 17,
     "metadata": {},
     "output_type": "execute_result"
    }
   ],
   "source": [
    "obj1==obj2"
   ]
  },
  {
   "cell_type": "code",
   "execution_count": 18,
   "metadata": {},
   "outputs": [
    {
     "data": {
      "text/plain": [
       "false"
      ]
     },
     "execution_count": 18,
     "metadata": {},
     "output_type": "execute_result"
    }
   ],
   "source": [
    "obj1===obj2"
   ]
  },
  {
   "cell_type": "markdown",
   "metadata": {},
   "source": [
    "They're not because they reference different objects in memory."
   ]
  },
  {
   "cell_type": "markdown",
   "metadata": {},
   "source": [
    "Checking if two arrays are equal using `==` and `===` "
   ]
  },
  {
   "cell_type": "code",
   "execution_count": 19,
   "metadata": {},
   "outputs": [],
   "source": [
    "var arr1 = [1,2,3]\n",
    "var arr2 = [1,2,3]"
   ]
  },
  {
   "cell_type": "code",
   "execution_count": 20,
   "metadata": {},
   "outputs": [
    {
     "data": {
      "text/plain": [
       "false"
      ]
     },
     "execution_count": 20,
     "metadata": {},
     "output_type": "execute_result"
    }
   ],
   "source": [
    "arr1==arr2"
   ]
  },
  {
   "cell_type": "code",
   "execution_count": 21,
   "metadata": {},
   "outputs": [
    {
     "data": {
      "text/plain": [
       "false"
      ]
     },
     "execution_count": 21,
     "metadata": {},
     "output_type": "execute_result"
    }
   ],
   "source": [
    "arr1===arr2"
   ]
  },
  {
   "cell_type": "markdown",
   "metadata": {},
   "source": [
    "They're not - again because of references."
   ]
  },
  {
   "cell_type": "markdown",
   "metadata": {},
   "source": [
    "#### Null == Undefined"
   ]
  },
  {
   "cell_type": "markdown",
   "metadata": {},
   "source": [
    "The Mozilla page on comprison operations says:\n",
    "<blockquote>Null and Undefined Types are strictly equal to themselves and abstractly equal to each other.</blockquote>"
   ]
  },
  {
   "cell_type": "code",
   "execution_count": 22,
   "metadata": {},
   "outputs": [
    {
     "data": {
      "text/plain": [
       "true"
      ]
     },
     "execution_count": 22,
     "metadata": {},
     "output_type": "execute_result"
    }
   ],
   "source": [
    "null==undefined"
   ]
  },
  {
   "cell_type": "code",
   "execution_count": 23,
   "metadata": {},
   "outputs": [
    {
     "data": {
      "text/plain": [
       "false"
      ]
     },
     "execution_count": 23,
     "metadata": {},
     "output_type": "execute_result"
    }
   ],
   "source": [
    "null===undefined"
   ]
  },
  {
   "cell_type": "markdown",
   "metadata": {},
   "source": [
    "So `==` can be useful in the case where we don't care whether something is `null` or `undefined`, we just want to check whether it has a defined value or not."
   ]
  },
  {
   "cell_type": "code",
   "execution_count": 24,
   "metadata": {},
   "outputs": [
    {
     "name": "stdout",
     "output_type": "stream",
     "text": [
      "No value\n"
     ]
    }
   ],
   "source": [
    "var value = null\n",
    "\n",
    "if (value==undefined) {\n",
    "    console.log('No value')\n",
    "}"
   ]
  }
 ],
 "metadata": {
  "kernelspec": {
   "display_name": "Javascript (Node.js)",
   "language": "javascript",
   "name": "javascript"
  },
  "language_info": {
   "file_extension": ".js",
   "mimetype": "application/javascript",
   "name": "javascript",
   "version": "8.12.0"
  }
 },
 "nbformat": 4,
 "nbformat_minor": 2
}
