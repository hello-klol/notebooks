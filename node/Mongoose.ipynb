{
 "cells": [
  {
   "cell_type": "markdown",
   "metadata": {},
   "source": [
    "Making a script to bootstrap a database. Chaining Promises to make sure errors are handled and db connection is closed."
   ]
  },
  {
   "cell_type": "code",
   "execution_count": null,
   "metadata": {},
   "outputs": [],
   "source": [
    "mongoose.createConnection(mongoDbURL)\n",
    "    .then((connection) => {\n",
    "        new Promise((res, rej) => { \n",
    "            // put async code that requires the connection here    \n",
    "        }).then(() => {\n",
    "            console.log('Job complete!');\n",
    "        }).catch((err) => {\n",
    "            console.log(err);\n",
    "        }).finally(() => {\n",
    "            // once connection is finished being used\n",
    "            connection.close();\n",
    "        });\n",
    "    })"
   ]
  }
 ],
 "metadata": {
  "kernelspec": {
   "display_name": "Python 3",
   "language": "python",
   "name": "python3"
  },
  "language_info": {
   "codemirror_mode": {
    "name": "ipython",
    "version": 3
   },
   "file_extension": ".py",
   "mimetype": "text/x-python",
   "name": "python",
   "nbconvert_exporter": "python",
   "pygments_lexer": "ipython3",
   "version": "3.7.0"
  }
 },
 "nbformat": 4,
 "nbformat_minor": 2
}
