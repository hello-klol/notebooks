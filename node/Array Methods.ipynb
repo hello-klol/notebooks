{
 "cells": [
  {
   "cell_type": "markdown",
   "metadata": {},
   "source": [
    "Playing around with array methods in JavaScript"
   ]
  },
  {
   "cell_type": "code",
   "execution_count": 1,
   "metadata": {},
   "outputs": [],
   "source": [
    "const exampleText = \"A nut for a jar of tuna\"\n",
    "const textArray = exampleText.split(\" \")"
   ]
  },
  {
   "cell_type": "markdown",
   "metadata": {},
   "source": [
    "## ForEach"
   ]
  },
  {
   "cell_type": "markdown",
   "metadata": {},
   "source": [
    "As far as I understand it, `forEach` is just different syntax for a `for` loop. It doesn't return anything and is useful for things like logging to the console."
   ]
  },
  {
   "cell_type": "code",
   "execution_count": 2,
   "metadata": {},
   "outputs": [],
   "source": [
    "function toUpperCase(el, idx, arr) {\n",
    "    return el.toUpperCase()\n",
    "}\n",
    "var upperCase = textArray.forEach(toUpperCase)"
   ]
  },
  {
   "cell_type": "code",
   "execution_count": 3,
   "metadata": {},
   "outputs": [
    {
     "name": "stdout",
     "output_type": "stream",
     "text": [
      "undefined\n"
     ]
    }
   ],
   "source": [
    "console.log(upperCase)"
   ]
  },
  {
   "cell_type": "code",
   "execution_count": 4,
   "metadata": {},
   "outputs": [
    {
     "name": "stdout",
     "output_type": "stream",
     "text": [
      "0 A\n",
      "1 nut\n",
      "2 for\n",
      "3 a\n",
      "4 jar\n",
      "5 of\n",
      "6 tuna\n"
     ]
    }
   ],
   "source": [
    "function printString(el, idx, arr) {\n",
    "    console.log(`${idx} ${el}`)\n",
    "}\n",
    "\n",
    "textArray.forEach(printString)"
   ]
  },
  {
   "cell_type": "markdown",
   "metadata": {},
   "source": [
    "## Map"
   ]
  },
  {
   "cell_type": "markdown",
   "metadata": {},
   "source": [
    "Map returns values - it maps arrays from some value to another value. As with all of these functions, it only applies to arrays and not objects."
   ]
  },
  {
   "cell_type": "code",
   "execution_count": 5,
   "metadata": {},
   "outputs": [],
   "source": [
    "var upperCase = textArray.map(toUpperCase)"
   ]
  },
  {
   "cell_type": "code",
   "execution_count": 6,
   "metadata": {},
   "outputs": [
    {
     "name": "stdout",
     "output_type": "stream",
     "text": [
      "[ 'A', 'NUT', 'FOR', 'A', 'JAR', 'OF', 'TUNA' ]\n"
     ]
    }
   ],
   "source": [
    "console.log(upperCase)"
   ]
  },
  {
   "cell_type": "markdown",
   "metadata": {},
   "source": [
    "Cool."
   ]
  },
  {
   "cell_type": "markdown",
   "metadata": {},
   "source": [
    "## Reduce"
   ]
  },
  {
   "cell_type": "markdown",
   "metadata": {},
   "source": [
    "Reduce takes array items and groups them together back into a single variable."
   ]
  },
  {
   "cell_type": "code",
   "execution_count": 7,
   "metadata": {},
   "outputs": [],
   "source": [
    "function reverseString(accumulator, el, idx, arr) {\n",
    "    return el + ' ' + accumulator\n",
    "}\n",
    "var reverseStr = textArray.reduce(reverseString, '')"
   ]
  },
  {
   "cell_type": "code",
   "execution_count": 8,
   "metadata": {},
   "outputs": [
    {
     "name": "stdout",
     "output_type": "stream",
     "text": [
      "tuna of jar a for nut A \n"
     ]
    }
   ],
   "source": [
    "console.log(reverseStr)"
   ]
  },
  {
   "cell_type": "markdown",
   "metadata": {},
   "source": [
    "## Join"
   ]
  },
  {
   "cell_type": "markdown",
   "metadata": {},
   "source": [
    "Since we're reducing to a `String` we could also be using `join` here:"
   ]
  },
  {
   "cell_type": "code",
   "execution_count": 9,
   "metadata": {},
   "outputs": [
    {
     "data": {
      "text/plain": [
       "'Anutforajaroftuna'"
      ]
     },
     "execution_count": 9,
     "metadata": {},
     "output_type": "execute_result"
    }
   ],
   "source": [
    "textArray.join('')"
   ]
  },
  {
   "cell_type": "markdown",
   "metadata": {},
   "source": [
    "## Reverse"
   ]
  },
  {
   "cell_type": "markdown",
   "metadata": {},
   "source": [
    "We can have the same effect as the `reduce` function by doing the following:"
   ]
  },
  {
   "cell_type": "code",
   "execution_count": 10,
   "metadata": {},
   "outputs": [
    {
     "data": {
      "text/plain": [
       "'tuna of jar a for nut A'"
      ]
     },
     "execution_count": 10,
     "metadata": {},
     "output_type": "execute_result"
    }
   ],
   "source": [
    "textArray.reverse().join(' ')"
   ]
  },
  {
   "cell_type": "markdown",
   "metadata": {},
   "source": [
    "You need to be careful as `reverse` is applied **in place** so affects all our code referring to `textArray` from now on."
   ]
  },
  {
   "cell_type": "code",
   "execution_count": 11,
   "metadata": {},
   "outputs": [
    {
     "data": {
      "text/plain": [
       "[ 'tuna', 'of', 'jar', 'a', 'for', 'nut', 'A' ]"
      ]
     },
     "execution_count": 11,
     "metadata": {},
     "output_type": "execute_result"
    }
   ],
   "source": [
    "textArray"
   ]
  },
  {
   "cell_type": "markdown",
   "metadata": {},
   "source": [
    "Let's just put it back to how it was before"
   ]
  },
  {
   "cell_type": "code",
   "execution_count": 12,
   "metadata": {},
   "outputs": [
    {
     "data": {
      "text/plain": [
       "[ 'A', 'nut', 'for', 'a', 'jar', 'of', 'tuna' ]"
      ]
     },
     "execution_count": 12,
     "metadata": {},
     "output_type": "execute_result"
    }
   ],
   "source": [
    "textArray.reverse()"
   ]
  },
  {
   "cell_type": "markdown",
   "metadata": {},
   "source": [
    "## Filter"
   ]
  },
  {
   "cell_type": "code",
   "execution_count": 13,
   "metadata": {},
   "outputs": [],
   "source": [
    "function isThreeLetters(el, idx, arr) {\n",
    "    return el.length === 3\n",
    "}\n",
    "var threeLetterWords = textArray.filter(isThreeLetters)"
   ]
  },
  {
   "cell_type": "code",
   "execution_count": 14,
   "metadata": {},
   "outputs": [
    {
     "name": "stdout",
     "output_type": "stream",
     "text": [
      "[ 'nut', 'for', 'jar' ]\n"
     ]
    }
   ],
   "source": [
    "console.log(threeLetterWords)"
   ]
  },
  {
   "cell_type": "markdown",
   "metadata": {},
   "source": [
    "The above example is a more explicit description of whats going on, but it could be written in a more simplified way:"
   ]
  },
  {
   "cell_type": "code",
   "execution_count": 15,
   "metadata": {},
   "outputs": [],
   "source": [
    "var threeLetterWords = textArray.filter(word => word.length === 3)"
   ]
  },
  {
   "cell_type": "markdown",
   "metadata": {},
   "source": [
    "## Concat"
   ]
  },
  {
   "cell_type": "markdown",
   "metadata": {},
   "source": [
    "Pretty simple - concatenates arrays. Get's more interesting when dealing with nested arrays."
   ]
  },
  {
   "cell_type": "code",
   "execution_count": 16,
   "metadata": {
    "scrolled": true
   },
   "outputs": [
    {
     "data": {
      "text/plain": [
       "[ 1, 2, 3, 4 ]"
      ]
     },
     "execution_count": 16,
     "metadata": {},
     "output_type": "execute_result"
    }
   ],
   "source": [
    "[1,2,3].concat(4)"
   ]
  },
  {
   "cell_type": "code",
   "execution_count": 17,
   "metadata": {},
   "outputs": [
    {
     "data": {
      "text/plain": [
       "[ 1, 2, 3, 4, 5 ]"
      ]
     },
     "execution_count": 17,
     "metadata": {},
     "output_type": "execute_result"
    }
   ],
   "source": [
    "[1,2,3].concat([4,5])"
   ]
  },
  {
   "cell_type": "markdown",
   "metadata": {},
   "source": [
    "Concatentation only pulls sub-elements out of an another array up to a depth of 1, otherwise it just concatenates the array itself."
   ]
  },
  {
   "cell_type": "code",
   "execution_count": 18,
   "metadata": {},
   "outputs": [
    {
     "data": {
      "text/plain": [
       "[ 1, 2, 3, [ 4 ], [ [ 5, 6 ] ] ]"
      ]
     },
     "execution_count": 18,
     "metadata": {},
     "output_type": "execute_result"
    }
   ],
   "source": [
    "[1,2,3].concat([[4], [[5, 6]]])"
   ]
  },
  {
   "cell_type": "markdown",
   "metadata": {},
   "source": [
    "## Reduce and Concat (Flat)"
   ]
  },
  {
   "cell_type": "markdown",
   "metadata": {},
   "source": [
    "`flat` is currently in experimental stages and not supported by Node. The suggested replacement is a `reduce` followed by a `concat`. `flat` function logic is really useful for dealing with nested arrays, pulling out sub-elements and putting them all at the same depth."
   ]
  },
  {
   "cell_type": "markdown",
   "metadata": {},
   "source": [
    "First let's set up a shallow nested array:"
   ]
  },
  {
   "cell_type": "code",
   "execution_count": 19,
   "metadata": {},
   "outputs": [],
   "source": [
    "function nestArrays(el) {\n",
    "    return Array.from(el).map(toUpperCase)\n",
    "}\n",
    "var nestedChars = textArray.map(nestArrays)"
   ]
  },
  {
   "cell_type": "code",
   "execution_count": 20,
   "metadata": {},
   "outputs": [
    {
     "name": "stdout",
     "output_type": "stream",
     "text": [
      "[ [ 'A' ],\n",
      "  [ 'N', 'U', 'T' ],\n",
      "  [ 'F', 'O', 'R' ],\n",
      "  [ 'A' ],\n",
      "  [ 'J', 'A', 'R' ],\n",
      "  [ 'O', 'F' ],\n",
      "  [ 'T', 'U', 'N', 'A' ] ]\n"
     ]
    }
   ],
   "source": [
    "console.log(nestedChars)"
   ]
  },
  {
   "cell_type": "markdown",
   "metadata": {},
   "source": [
    "Now write some code to flatten the nested array:"
   ]
  },
  {
   "cell_type": "code",
   "execution_count": 21,
   "metadata": {},
   "outputs": [],
   "source": [
    "function concatenate(acc, el) {\n",
    "    return acc.concat(el)\n",
    "}\n",
    "var unNestedChars = nestedChars.reduce(concatenate, [])"
   ]
  },
  {
   "cell_type": "markdown",
   "metadata": {},
   "source": [
    "The above can be simplified to:"
   ]
  },
  {
   "cell_type": "code",
   "execution_count": 22,
   "metadata": {},
   "outputs": [],
   "source": [
    "var unNestedChars = nestedChars.reduce((acc, el) => acc.concat(el), [])"
   ]
  },
  {
   "cell_type": "code",
   "execution_count": 23,
   "metadata": {},
   "outputs": [
    {
     "name": "stdout",
     "output_type": "stream",
     "text": [
      "[ 'A',\n",
      "  'N',\n",
      "  'U',\n",
      "  'T',\n",
      "  'F',\n",
      "  'O',\n",
      "  'R',\n",
      "  'A',\n",
      "  'J',\n",
      "  'A',\n",
      "  'R',\n",
      "  'O',\n",
      "  'F',\n",
      "  'T',\n",
      "  'U',\n",
      "  'N',\n",
      "  'A' ]\n"
     ]
    }
   ],
   "source": [
    "console.log(unNestedChars)"
   ]
  },
  {
   "cell_type": "code",
   "execution_count": 33,
   "metadata": {},
   "outputs": [
    {
     "data": {
      "text/plain": [
       "'A N U T F O R A J A R O F T U N A'"
      ]
     },
     "execution_count": 33,
     "metadata": {},
     "output_type": "execute_result"
    }
   ],
   "source": [
    "unNestedChars.reverse().join(' ')"
   ]
  },
  {
   "cell_type": "markdown",
   "metadata": {},
   "source": [
    "Surprise! Palindrome!"
   ]
  },
  {
   "cell_type": "markdown",
   "metadata": {},
   "source": [
    "The above example works for a depth of 1. How about an even more nested array?"
   ]
  },
  {
   "cell_type": "markdown",
   "metadata": {},
   "source": [
    "Now we create a deeply nested array:"
   ]
  },
  {
   "cell_type": "code",
   "execution_count": 25,
   "metadata": {},
   "outputs": [],
   "source": [
    "function deepNest(acc, el) {\n",
    "    return [acc, Array.of(el)]\n",
    "}\n",
    "var deepNestedChars = textArray.reduce(deepNest, [])"
   ]
  },
  {
   "cell_type": "code",
   "execution_count": 26,
   "metadata": {},
   "outputs": [
    {
     "name": "stdout",
     "output_type": "stream",
     "text": [
      "[ [ [ [Array], [Array] ], [ 'of' ] ], [ 'tuna' ] ]\n"
     ]
    }
   ],
   "source": [
    "console.log(deepNestedChars)"
   ]
  },
  {
   "cell_type": "markdown",
   "metadata": {},
   "source": [
    "The problem can be solved neatly using recursion, introducing the `Array.isArray` function:"
   ]
  },
  {
   "cell_type": "code",
   "execution_count": 27,
   "metadata": {},
   "outputs": [],
   "source": [
    "function flattenDeep(nestedChars) {\n",
    "    return nestedChars.reduce((acc, el) => Array.isArray(el) ? acc.concat(flattenDeep(el)) : acc.concat(el), [])\n",
    "}"
   ]
  },
  {
   "cell_type": "code",
   "execution_count": 28,
   "metadata": {},
   "outputs": [
    {
     "name": "stdout",
     "output_type": "stream",
     "text": [
      "[ 'A', 'nut', 'for', 'a', 'jar', 'of', 'tuna' ]\n"
     ]
    }
   ],
   "source": [
    "console.log(flattenDeep(deepNestedChars))"
   ]
  },
  {
   "cell_type": "markdown",
   "metadata": {},
   "source": [
    "## Reversing the Palindrome"
   ]
  },
  {
   "cell_type": "markdown",
   "metadata": {},
   "source": [
    "Using what the above to try a few different methods of reversing the palindrome from the array of words:"
   ]
  },
  {
   "cell_type": "code",
   "execution_count": 29,
   "metadata": {},
   "outputs": [
    {
     "data": {
      "text/plain": [
       "[ 'A', 'nut', 'for', 'a', 'jar', 'of', 'tuna' ]"
      ]
     },
     "execution_count": 29,
     "metadata": {},
     "output_type": "execute_result"
    }
   ],
   "source": [
    "textArray"
   ]
  },
  {
   "cell_type": "markdown",
   "metadata": {},
   "source": [
    "The simplest way I can think of is joining it back into a string (without spaces) then making an array of chars and reversing:"
   ]
  },
  {
   "cell_type": "code",
   "execution_count": 40,
   "metadata": {},
   "outputs": [
    {
     "data": {
      "text/plain": [
       "'anutforajaroftunA'"
      ]
     },
     "execution_count": 40,
     "metadata": {},
     "output_type": "execute_result"
    }
   ],
   "source": [
    "Array.from(textArray.join('')).reverse().join('')"
   ]
  },
  {
   "cell_type": "markdown",
   "metadata": {},
   "source": [
    "More complicated is a **map-reduce** type example: reversing each word during a map step and then joining them back together again in reverse in a reduce step."
   ]
  },
  {
   "cell_type": "code",
   "execution_count": 51,
   "metadata": {},
   "outputs": [],
   "source": [
    "var reversedText = textArray.map(el => Array.from(el).reverse())"
   ]
  },
  {
   "cell_type": "code",
   "execution_count": 52,
   "metadata": {},
   "outputs": [
    {
     "data": {
      "text/plain": [
       "[ [ 'A' ],\n",
       "  [ 't', 'u', 'n' ],\n",
       "  [ 'r', 'o', 'f' ],\n",
       "  [ 'a' ],\n",
       "  [ 'r', 'a', 'j' ],\n",
       "  [ 'f', 'o' ],\n",
       "  [ 'a', 'n', 'u', 't' ] ]"
      ]
     },
     "execution_count": 52,
     "metadata": {},
     "output_type": "execute_result"
    }
   ],
   "source": [
    "reversedText"
   ]
  },
  {
   "cell_type": "code",
   "execution_count": 54,
   "metadata": {},
   "outputs": [
    {
     "data": {
      "text/plain": [
       "[ 'anutforajaroftunA' ]"
      ]
     },
     "execution_count": 54,
     "metadata": {},
     "output_type": "execute_result"
    }
   ],
   "source": [
    "reversedText.reduce((acc, el) => [el.concat(acc).join('')], [])"
   ]
  },
  {
   "cell_type": "markdown",
   "metadata": {},
   "source": [
    "This is definitely awkward and overcomplicated in loads of ways but I just wanted to mess around with putting the logic purely inside `map` and `reduce` functions."
   ]
  }
 ],
 "metadata": {
  "kernelspec": {
   "display_name": "Javascript (Node.js)",
   "language": "javascript",
   "name": "javascript"
  },
  "language_info": {
   "file_extension": ".js",
   "mimetype": "application/javascript",
   "name": "javascript",
   "version": "10.6.0"
  }
 },
 "nbformat": 4,
 "nbformat_minor": 2
}
