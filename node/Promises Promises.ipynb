{
 "cells": [
  {
   "cell_type": "markdown",
   "metadata": {},
   "source": [
    "## Sync / Async"
   ]
  },
  {
   "cell_type": "markdown",
   "metadata": {},
   "source": [
    "A synchronous function is one that returns immediately:"
   ]
  },
  {
   "cell_type": "code",
   "execution_count": 1,
   "metadata": {},
   "outputs": [],
   "source": [
    "function syncFn() {\n",
    "    console.log('Sychronous call!')\n",
    "}"
   ]
  },
  {
   "cell_type": "markdown",
   "metadata": {},
   "source": [
    "The function will run before any following lines are run:"
   ]
  },
  {
   "cell_type": "code",
   "execution_count": 2,
   "metadata": {},
   "outputs": [
    {
     "name": "stdout",
     "output_type": "stream",
     "text": [
      "First\n",
      "Sychronous call!\n",
      "Last\n"
     ]
    }
   ],
   "source": [
    "console.log('First')\n",
    "syncFn()\n",
    "console.log('Last')"
   ]
  },
  {
   "cell_type": "markdown",
   "metadata": {},
   "source": [
    "An asynchronous function sets up some logic to be run, but doesn't block following lines from being run while waiting for that logic to be executed:"
   ]
  },
  {
   "cell_type": "code",
   "execution_count": 3,
   "metadata": {},
   "outputs": [],
   "source": [
    "function asyncFn() {\n",
    "    setTimeout(function () {\n",
    "        console.log('Asynchronous call!')\n",
    "    }, Math.random() * 10000) \n",
    "}"
   ]
  },
  {
   "cell_type": "code",
   "execution_count": 4,
   "metadata": {},
   "outputs": [
    {
     "name": "stdout",
     "output_type": "stream",
     "text": [
      "First\n",
      "Last\n",
      "Asynchronous call!\n"
     ]
    }
   ],
   "source": [
    "console.log('First')\n",
    "asyncFn()\n",
    "console.log('Last')"
   ]
  },
  {
   "cell_type": "markdown",
   "metadata": {},
   "source": [
    "## Example Use"
   ]
  },
  {
   "cell_type": "markdown",
   "metadata": {},
   "source": [
    "For my blog generator I need to load files from directories to process them. I'm using a library called <a href=\"https://www.npmjs.com/package/find\" rel=\"external\" target=\"_blank\">`find`</a> to get all files in a directory. "
   ]
  },
  {
   "cell_type": "code",
   "execution_count": 5,
   "metadata": {},
   "outputs": [],
   "source": [
    "const find = require('find')"
   ]
  },
  {
   "cell_type": "code",
   "execution_count": 6,
   "metadata": {},
   "outputs": [
    {
     "name": "stdout",
     "output_type": "stream",
     "text": [
      "[ 'example/file1.txt', 'example/file2.html', 'example/file3.md' ]\n"
     ]
    }
   ],
   "source": [
    "find.file('example', function(files) {\n",
    "    console.log(files)\n",
    "}).error(function(err) {\n",
    "    if (err) {\n",
    "      console.log(err)\n",
    "    }\n",
    "})"
   ]
  },
  {
   "cell_type": "markdown",
   "metadata": {},
   "source": [
    "This is asynchronous - meaning everything that relies on the files being loaded first must run inside the nested function. Things can easily get out of hand with continued nested functions."
   ]
  },
  {
   "cell_type": "markdown",
   "metadata": {},
   "source": [
    "A workaround _could_ look something like the following:"
   ]
  },
  {
   "cell_type": "code",
   "execution_count": 7,
   "metadata": {},
   "outputs": [
    {
     "name": "stdout",
     "output_type": "stream",
     "text": [
      "[ 'example/file1.txt', 'example/file2.html', 'example/file3.md' ]\n"
     ]
    }
   ],
   "source": [
    "find.file('example', function(files) {\n",
    "    useFiles(files)\n",
    "}).error(function(err) {\n",
    "    if (err) {\n",
    "      console.log(err)\n",
    "    }\n",
    "})\n",
    "\n",
    "function useFiles(files) {\n",
    "    console.log(files)\n",
    "}"
   ]
  },
  {
   "cell_type": "markdown",
   "metadata": {},
   "source": [
    "But this also kind of has a long chain effect which could get confusing. You can't really return the file names and assign them to a const or variable to be used later like we are used to with synchronous functions."
   ]
  },
  {
   "cell_type": "markdown",
   "metadata": {},
   "source": [
    "Promises are used to write aynchronous code in a readable way:"
   ]
  },
  {
   "cell_type": "code",
   "execution_count": 8,
   "metadata": {},
   "outputs": [
    {
     "name": "stdout",
     "output_type": "stream",
     "text": [
      "[ 'example/file1.txt', 'example/file2.html', 'example/file3.md' ]\n"
     ]
    }
   ],
   "source": [
    "function findFile(dir) {                                                                                                                                         \n",
    "   return new Promise(function (resolve, reject) {                                                                                                                        \n",
    "       find.file(dir, function(files) {\n",
    "           resolve(files)                                                                                                                                                 \n",
    "       }).error(function (err) {                                                                                                                                          \n",
    "           reject(err)                                                                                                                                                    \n",
    "       })                                                                                                                                                                 \n",
    "   })                                                                                                                                                                     \n",
    "}\n",
    "\n",
    "var exampleFiles = findFile('example') // load the files list into a var\n",
    "exampleFiles.then(console.log)"
   ]
  },
  {
   "cell_type": "markdown",
   "metadata": {},
   "source": [
    "Since we're just feeding the files or error into the `resolve` and `reject` functions and not doing anything with them beforehand we can rewrite this functionality in a slightly cleaner way:"
   ]
  },
  {
   "cell_type": "code",
   "execution_count": 9,
   "metadata": {},
   "outputs": [
    {
     "name": "stdout",
     "output_type": "stream",
     "text": [
      "[ 'example/file1.txt', 'example/file2.html', 'example/file3.md' ]\n"
     ]
    }
   ],
   "source": [
    "function findFile(dir) {                                                                                                                                         \n",
    "   return new Promise(function (resolve, reject) {                                                                                                                        \n",
    "       find.file(dir, resolve).error(reject)                                                                                                                                                      \n",
    "   })                                                                                                                                                                     \n",
    "}\n",
    "\n",
    "var exampleFiles = findFile('example')\n",
    "exampleFiles.then(console.log)"
   ]
  },
  {
   "cell_type": "markdown",
   "metadata": {},
   "source": [
    "Let's test out the error functionality:"
   ]
  },
  {
   "cell_type": "code",
   "execution_count": 10,
   "metadata": {},
   "outputs": [
    {
     "ename": "Error",
     "evalue": "not a dir does not exist.",
     "output_type": "error",
     "traceback": [
      "Error: not a dir does not exist.",
      "    at Object.notExist (/home/minnie/workspace/node/node_modules/find/index.js:41:12)",
      "    at traverseAsync (/home/minnie/workspace/node/node_modules/find/index.js:163:28)",
      "    at /home/minnie/workspace/node/node_modules/find/index.js:282:7",
      "    at process._tickCallback (internal/process/next_tick.js:61:11)"
     ]
    }
   ],
   "source": [
    "findFile('not a dir').then(console.log)"
   ]
  },
  {
   "cell_type": "markdown",
   "metadata": {},
   "source": [
    "## After Promises"
   ]
  },
  {
   "cell_type": "markdown",
   "metadata": {},
   "source": [
    "Now we have this function wrapped in a Promise we can chain all sorts of stuff that rely on the list of files being loaded:"
   ]
  },
  {
   "cell_type": "code",
   "execution_count": 11,
   "metadata": {},
   "outputs": [],
   "source": [
    "const path = require('path')"
   ]
  },
  {
   "cell_type": "code",
   "execution_count": 12,
   "metadata": {},
   "outputs": [],
   "source": [
    "function getBasenames(files) {\n",
    "    return files.reduce((returnVal, el) => {\n",
    "         const ext = path.extname(el)\n",
    "         return returnVal.concat(path.basename(el, ext))\n",
    "    }, [])\n",
    "}\n",
    "\n",
    "function getExtensions(files) {\n",
    "    return files.reduce((returnVal, el) => {\n",
    "         return returnVal.concat(path.extname(el))\n",
    "    }, [])\n",
    "}\n",
    "\n",
    "function getHtml(exts) {\n",
    "    return exts.reduce((returnVal, el) => {\n",
    "        if (el=='.html') {\n",
    "            return returnVal.concat(el)\n",
    "        }\n",
    "        return returnVal\n",
    "    }, [])\n",
    "}"
   ]
  },
  {
   "cell_type": "code",
   "execution_count": 13,
   "metadata": {},
   "outputs": [
    {
     "name": "stdout",
     "output_type": "stream",
     "text": [
      "[ 'example/file1.txt', 'example/file2.html', 'example/file3.md' ]\n",
      "[ 'file1', 'file2', 'file3' ]\n",
      "[ '.html' ]\n"
     ]
    }
   ],
   "source": [
    "var myFiles = findFile('example')\n",
    "var basenames = myFiles.then(getBasenames)\n",
    "var htmlExtensions = myFiles.then(getExtensions).then(getHtml)\n",
    "\n",
    "myFiles.then(console.log)    \n",
    "basenames.then(console.log)\n",
    "htmlExtensions.then(console.log)"
   ]
  },
  {
   "cell_type": "markdown",
   "metadata": {},
   "source": [
    "I can't actually think of a case where getting all the html extensions is useful but that's besides the point. The point is you can chain `then`'s and assign stuff to variables or constants to be used later. And when they're used they'll have had their value assigned from the asynchronous logic."
   ]
  },
  {
   "cell_type": "markdown",
   "metadata": {},
   "source": [
    "The end."
   ]
  }
 ],
 "metadata": {
  "kernelspec": {
   "display_name": "Javascript (Node.js)",
   "language": "javascript",
   "name": "javascript"
  },
  "language_info": {
   "file_extension": ".js",
   "mimetype": "application/javascript",
   "name": "javascript",
   "version": "10.6.0"
  }
 },
 "nbformat": 4,
 "nbformat_minor": 2
}
