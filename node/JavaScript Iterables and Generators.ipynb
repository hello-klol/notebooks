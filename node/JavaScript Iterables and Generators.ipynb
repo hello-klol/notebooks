{
 "cells": [
  {
   "cell_type": "markdown",
   "metadata": {},
   "source": [
    "## Making Iterators"
   ]
  },
  {
   "cell_type": "markdown",
   "metadata": {},
   "source": [
    "To make an object iterable it must have a method named `Symbol.iterator`. \n",
    "\n",
    "This method must return an _iterator_ (an object with the method `next`). \n",
    "\n",
    "`next()` needs to return something in the format `{done: Boolean, value: any}`"
   ]
  },
  {
   "cell_type": "markdown",
   "metadata": {},
   "source": [
    "Let's have a go with making an iterable that returns Fibonacci numbers - a programming classic."
   ]
  },
  {
   "cell_type": "code",
   "execution_count": 27,
   "metadata": {},
   "outputs": [],
   "source": [
    "function fibIter(from, to) {\n",
    "    return {\n",
    "        from,\n",
    "        to,\n",
    "        [Symbol.iterator]() {\n",
    "            return {\n",
    "                previous: 0,\n",
    "                current: this.from,\n",
    "                last: this.to,\n",
    "                next() {\n",
    "                    value = this.current+this.previous\n",
    "                    ;[this.previous, this.current] = [this.current, value]\n",
    "                    if (this.current <= this.last) {\n",
    "                        return { done: false, value }\n",
    "                    } else {\n",
    "                        return { done: true }\n",
    "                    }\n",
    "                }\n",
    "            }\n",
    "        }\n",
    "    }\n",
    "}"
   ]
  },
  {
   "cell_type": "code",
   "execution_count": 28,
   "metadata": {},
   "outputs": [
    {
     "name": "stdout",
     "output_type": "stream",
     "text": [
      "1\n",
      "2\n",
      "3\n",
      "5\n",
      "8\n",
      "13\n"
     ]
    }
   ],
   "source": [
    "for (let num of fibIter(1, 20)) {\n",
    "  console.log(num)\n",
    "}"
   ]
  },
  {
   "cell_type": "markdown",
   "metadata": {},
   "source": [
    "The code above stores state values in the object as we loop through and returns numbers in the range. \n",
    "\n",
    "Having the `Symbol.iterator` function create and return it's own object instead of updating and returning `this` (the object contaning it) means that two or more `for` loops can use the iterator at the same time. Otherwise the loops would share the same iteration state and madness would ensue. \n",
    "\n",
    "The code below demonstrates such a structure:"
   ]
  },
  {
   "cell_type": "code",
   "execution_count": 33,
   "metadata": {},
   "outputs": [],
   "source": [
    "var myIterator = {\n",
    "    next: function() {\n",
    "        // ...\n",
    "    }\n",
    "    [Symbol.iterator]: function() { return this }\n",
    "};"
   ]
  },
  {
   "cell_type": "markdown",
   "metadata": {},
   "source": [
    "If we're doing things this way we need to make sure we create a new iterable object for each time we want to loop over it."
   ]
  },
  {
   "cell_type": "markdown",
   "metadata": {},
   "source": [
    "There's more to this which I won't bother explaining here as it's already well described <a href=\"https://javascript.info/iterable\" rel=\"external\" target=\"_blank\">in this post</a>. It's enough for my purposes just to know I need a `Symbol.iterator` function returning an object cotaining a `next` function."
   ]
  },
  {
   "cell_type": "markdown",
   "metadata": {},
   "source": [
    "### To infinity and beyond"
   ]
  },
  {
   "cell_type": "markdown",
   "metadata": {},
   "source": [
    "JavaScript has an `Inifinity` property that is counted as a numeric value. We can use it to make our loop continue indefinitely."
   ]
  },
  {
   "cell_type": "code",
   "execution_count": 3,
   "metadata": {},
   "outputs": [
    {
     "name": "stdout",
     "output_type": "stream",
     "text": [
      "20\n",
      "40\n",
      "60\n",
      "100\n",
      "160\n",
      "260\n"
     ]
    }
   ],
   "source": [
    "var i=0\n",
    "for (let num of fibIter(20, Infinity)) {\n",
    "    console.log(num)\n",
    "    // Use incrementer to count loops and at some point \n",
    "    // stop this running \n",
    "    i++\n",
    "    if(i>5) { break }\n",
    "}"
   ]
  },
  {
   "cell_type": "markdown",
   "metadata": {},
   "source": [
    "Obviously these aren't really proper Fibonacci numbers at this starting point, but the logic works the same."
   ]
  },
  {
   "cell_type": "markdown",
   "metadata": {},
   "source": [
    "### Spread"
   ]
  },
  {
   "cell_type": "markdown",
   "metadata": {},
   "source": [
    "Now that we have a working iterator we can use the `spread` syntax on it:"
   ]
  },
  {
   "cell_type": "code",
   "execution_count": 4,
   "metadata": {},
   "outputs": [
    {
     "data": {
      "text/plain": [
       "[ 1, 2, 3, 5, 8, 13 ]"
      ]
     },
     "execution_count": 4,
     "metadata": {},
     "output_type": "execute_result"
    }
   ],
   "source": [
    "[...fibIter(1,20)]"
   ]
  },
  {
   "cell_type": "markdown",
   "metadata": {},
   "source": [
    "### Array.from"
   ]
  },
  {
   "cell_type": "markdown",
   "metadata": {},
   "source": [
    "We can convert our iterable into an array if we want:"
   ]
  },
  {
   "cell_type": "code",
   "execution_count": 5,
   "metadata": {},
   "outputs": [
    {
     "data": {
      "text/plain": [
       "[ 1, 2, 3, 5, 8, 13 ]"
      ]
     },
     "execution_count": 5,
     "metadata": {},
     "output_type": "execute_result"
    }
   ],
   "source": [
    "Array.from(fibIter(1,20))"
   ]
  },
  {
   "cell_type": "markdown",
   "metadata": {},
   "source": [
    "## Generators"
   ]
  },
  {
   "cell_type": "markdown",
   "metadata": {},
   "source": [
    "In JavaScript generators are marked with an asterisk at the end of `function`:"
   ]
  },
  {
   "cell_type": "code",
   "execution_count": 6,
   "metadata": {},
   "outputs": [],
   "source": [
    "function* fibGen(from=1, to=20) {\n",
    "    let previous = 0\n",
    "    let current = from\n",
    "    let last = to\n",
    "    while (current < last) {\n",
    "        let value = current + previous\n",
    "        ;[previous, current] = [current, value]\n",
    "        yield value\n",
    "    }\n",
    "    return last\n",
    "}"
   ]
  },
  {
   "cell_type": "code",
   "execution_count": 7,
   "metadata": {},
   "outputs": [
    {
     "name": "stdout",
     "output_type": "stream",
     "text": [
      "1\n",
      "2\n",
      "3\n",
      "5\n",
      "8\n",
      "13\n",
      "21\n"
     ]
    }
   ],
   "source": [
    "for (let value of fibGen()) { \n",
    "    console.log(value); \n",
    "}\n"
   ]
  },
  {
   "cell_type": "markdown",
   "metadata": {},
   "source": [
    "Again we can use `spread` syntax and `Array.from` on this generator:"
   ]
  },
  {
   "cell_type": "code",
   "execution_count": 8,
   "metadata": {},
   "outputs": [
    {
     "data": {
      "text/plain": [
       "[ 1, 2, 3, 5, 8, 13, 21 ]"
      ]
     },
     "execution_count": 8,
     "metadata": {},
     "output_type": "execute_result"
    }
   ],
   "source": [
    "[...fibGen(1,20)]"
   ]
  },
  {
   "cell_type": "code",
   "execution_count": 9,
   "metadata": {},
   "outputs": [
    {
     "data": {
      "text/plain": [
       "[ 1, 2, 3, 5, 8, 13, 21 ]"
      ]
     },
     "execution_count": 9,
     "metadata": {},
     "output_type": "execute_result"
    }
   ],
   "source": [
    "Array.from(fibGen(1,20))"
   ]
  },
  {
   "cell_type": "markdown",
   "metadata": {},
   "source": [
    "### Generator Object"
   ]
  },
  {
   "cell_type": "markdown",
   "metadata": {},
   "source": [
    "Generators should probably be assigned to objects instead of calling the function directly - this would allow multiple loops to use the same type of generator without sharing state variables and madness ensuing."
   ]
  },
  {
   "cell_type": "code",
   "execution_count": 21,
   "metadata": {},
   "outputs": [],
   "source": [
    "var fibGenObject = function* (from=1, to=20) {\n",
    "    let previous = 0\n",
    "    let current = from\n",
    "    let last = to\n",
    "    while (current < last) {\n",
    "        let value = current + previous\n",
    "        ;[previous, current] = [current, value]\n",
    "        yield value\n",
    "    }\n",
    "    return last\n",
    "}()"
   ]
  },
  {
   "cell_type": "markdown",
   "metadata": {},
   "source": [
    "The above syntax creates a generator with the iterable functions `next` and `Symbol.iterator` without us having to explicitly define them:"
   ]
  },
  {
   "cell_type": "code",
   "execution_count": 22,
   "metadata": {},
   "outputs": [
    {
     "data": {
      "text/plain": [
       "'function'"
      ]
     },
     "execution_count": 22,
     "metadata": {},
     "output_type": "execute_result"
    }
   ],
   "source": [
    "typeof fibGenObject.next"
   ]
  },
  {
   "cell_type": "code",
   "execution_count": 23,
   "metadata": {},
   "outputs": [
    {
     "data": {
      "text/plain": [
       "'function'"
      ]
     },
     "execution_count": 23,
     "metadata": {},
     "output_type": "execute_result"
    }
   ],
   "source": [
    "typeof fibGenObject[Symbol.iterator]"
   ]
  },
  {
   "cell_type": "markdown",
   "metadata": {},
   "source": [
    "The `Symbol.iterator` just returns the generator object itself - so as mentioned above, if two loops where using the same generator object they would fall over each other. But that would be a stupid thing to do, we should make a new generator object each time we want to loop over it."
   ]
  },
  {
   "cell_type": "code",
   "execution_count": 24,
   "metadata": {},
   "outputs": [
    {
     "data": {
      "text/plain": [
       "true"
      ]
     },
     "execution_count": 24,
     "metadata": {},
     "output_type": "execute_result"
    }
   ],
   "source": [
    "fibGenObject[Symbol.iterator]() === fibGenObject"
   ]
  },
  {
   "cell_type": "markdown",
   "metadata": {},
   "source": [
    "This object is an iterable and can have all the same above functions applied to it, including `spread` syntax:"
   ]
  },
  {
   "cell_type": "code",
   "execution_count": 25,
   "metadata": {},
   "outputs": [
    {
     "data": {
      "text/plain": [
       "[ 1, 2, 3, 5, 8, 13, 21 ]"
      ]
     },
     "execution_count": 25,
     "metadata": {},
     "output_type": "execute_result"
    }
   ],
   "source": [
    "[...fibGenObject]"
   ]
  },
  {
   "cell_type": "markdown",
   "metadata": {},
   "source": [
    "There's more interesting info on iterators / generators <a href=\"https://developer.mozilla.org/en-US/docs/Web/JavaScript/Reference/Iteration_protocols#User-defined_iterables\" rel=\"external\" target=\"_blank\">here</a>."
   ]
  }
 ],
 "metadata": {
  "kernelspec": {
   "display_name": "Javascript (Node.js)",
   "language": "javascript",
   "name": "javascript"
  },
  "language_info": {
   "file_extension": ".js",
   "mimetype": "application/javascript",
   "name": "javascript",
   "version": "10.6.0"
  }
 },
 "nbformat": 4,
 "nbformat_minor": 2
}
