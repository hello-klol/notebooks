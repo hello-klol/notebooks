{
 "cells": [
  {
   "cell_type": "markdown",
   "metadata": {},
   "source": [
    "<div class=\"info\">\n",
    "I'm working my way through the points in this <a href=\"https://medium.com/@steCoersionphenthecurt/33-fundamentals-every-javascript-developer-should-know-13dd720a90d1\" rel=\"external\" target=\"_blank\">list of 33 fundamentals every JavaScript developer should know</a> in order to make sure I understand the language thoroughly. \n",
    "    \n",
    "This notebook is for working through code relating to point 6.\n",
    "</div>"
   ]
  },
  {
   "cell_type": "markdown",
   "metadata": {},
   "source": [
    "# Scope and Context"
   ]
  },
  {
   "cell_type": "markdown",
   "metadata": {},
   "source": [
    "- When we talk about **scope** we are talking about the variables a piece of code has access to at runtime.\n",
    "- When we talk about **context** we are talking about the value of `this` and all of it's properties."
   ]
  },
  {
   "cell_type": "markdown",
   "metadata": {},
   "source": [
    "# `var` is bananas"
   ]
  },
  {
   "cell_type": "markdown",
   "metadata": {},
   "source": [
    "Variables defined in the default or root scope are accessible globally, and variables defined within functions are only accessible within that function."
   ]
  },
  {
   "cell_type": "code",
   "execution_count": 1,
   "metadata": {},
   "outputs": [
    {
     "name": "stdout",
     "output_type": "stream",
     "text": [
      "We are inside the scope of the fruitVendor function:\n",
      "> a is for apples\n",
      "> b is for bananas\n",
      "\n",
      "\n",
      "We are at the default or root scope level:\n",
      "> a is for apples\n"
     ]
    },
    {
     "ename": "ReferenceError",
     "evalue": "b is not defined",
     "output_type": "error",
     "traceback": [
      "evalmachine.<anonymous>:15",
      "console.log('> b is for ' + b)",
      "                            ^",
      "",
      "ReferenceError: b is not defined",
      "    at evalmachine.<anonymous>:15:29",
      "    at Script.runInThisContext (vm.js:96:20)",
      "    at Object.runInThisContext (vm.js:303:38)",
      "    at run ([eval]:1054:15)",
      "    at onRunRequest ([eval]:888:18)",
      "    at onMessage ([eval]:848:13)",
      "    at process.emit (events.js:182:13)",
      "    at emit (internal/child_process.js:812:12)",
      "    at process._tickCallback (internal/process/next_tick.js:63:19)"
     ]
    }
   ],
   "source": [
    "var a = 'apples'\n",
    "\n",
    "function fruitVendor() {\n",
    "    var b = 'bananas'\n",
    "    console.log('We are inside the scope of the fruitVendor function:')\n",
    "    console.log('> a is for ' + a)\n",
    "    console.log('> b is for ' + b)\n",
    "    console.log('\\n')\n",
    "}\n",
    "\n",
    "fruitVendor()\n",
    "\n",
    "console.log('We are at the default or root scope level:')\n",
    "console.log('> a is for ' + a)\n",
    "console.log('> b is for ' + b)"
   ]
  },
  {
   "cell_type": "markdown",
   "metadata": {},
   "source": [
    "We get **scope conflict** when there is a variable of the same name in the parent and child scope. "
   ]
  },
  {
   "cell_type": "code",
   "execution_count": 2,
   "metadata": {},
   "outputs": [
    {
     "name": "stdout",
     "output_type": "stream",
     "text": [
      "We are inside the scope of the fruitVendor function:\n",
      "> a is for avocados\n",
      "\n",
      "\n",
      "We are at the default or root scope level:\n",
      "> a is for apples\n"
     ]
    }
   ],
   "source": [
    "var a = 'apples'\n",
    "\n",
    "function fruitVendor() {\n",
    "    var a = 'avocados'\n",
    "    console.log('We are inside the scope of the fruitVendor function:')\n",
    "    console.log('> a is for ' + a)\n",
    "    console.log('\\n')\n",
    "}\n",
    "\n",
    "fruitVendor()\n",
    "\n",
    "console.log('We are at the default or root scope level:')\n",
    "console.log('> a is for ' + a)"
   ]
  },
  {
   "cell_type": "markdown",
   "metadata": {},
   "source": [
    "Although the code runs, the problem is that we no longer have access to the parent variable of the same name due to naming conflicts."
   ]
  },
  {
   "cell_type": "markdown",
   "metadata": {},
   "source": [
    "**This is not really new information. But we are going somewhere with this which is JS specific so bear with me.**"
   ]
  },
  {
   "cell_type": "markdown",
   "metadata": {},
   "source": [
    "Above, we looked at function scope, but what about block scope? Is there much difference here when we try to define variables inside `if`, `for`, or `while` blocks of code?"
   ]
  },
  {
   "cell_type": "code",
   "execution_count": 3,
   "metadata": {},
   "outputs": [
    {
     "name": "stdout",
     "output_type": "stream",
     "text": [
      "> c is for clementine\n"
     ]
    }
   ],
   "source": [
    "if (true) {\n",
    "    var c = 'clementine'\n",
    "}\n",
    "\n",
    "console.log('> c is for ' + c)"
   ]
  },
  {
   "cell_type": "markdown",
   "metadata": {},
   "source": [
    "`var` values can be accessed outside of the scope of the block in which they were defined. This is considered by some to be inconsistent and confusing, particularly because you might feel that scope could be imagined as being encapsulated in curly braces. Lack of block scope isn't something you'd be used to if coming from many other programming languages. So in ES6 a new pair of definitions were introduced...."
   ]
  },
  {
   "cell_type": "markdown",
   "metadata": {},
   "source": [
    "# `let` and `const`"
   ]
  },
  {
   "cell_type": "code",
   "execution_count": 4,
   "metadata": {},
   "outputs": [
    {
     "name": "stdout",
     "output_type": "stream",
     "text": [
      "We are inside the scope of the if block:\n",
      "> d is for durians\n",
      "> e is for elderberries\n",
      "\n",
      "\n",
      "We are at the default or root scope level:\n",
      "> d is for durians\n"
     ]
    },
    {
     "ename": "ReferenceError",
     "evalue": "e is not defined",
     "output_type": "error",
     "traceback": [
      "evalmachine.<anonymous>:13",
      "console.log('> e is for ' + e)",
      "                            ^",
      "",
      "ReferenceError: e is not defined",
      "    at evalmachine.<anonymous>:13:29",
      "    at Script.runInThisContext (vm.js:96:20)",
      "    at Object.runInThisContext (vm.js:303:38)",
      "    at run ([eval]:1054:15)",
      "    at onRunRequest ([eval]:888:18)",
      "    at onMessage ([eval]:848:13)",
      "    at process.emit (events.js:182:13)",
      "    at emit (internal/child_process.js:812:12)",
      "    at process._tickCallback (internal/process/next_tick.js:63:19)"
     ]
    }
   ],
   "source": [
    "let d = 'durians'\n",
    "\n",
    "if (true) {\n",
    "    let e = 'elderberries'\n",
    "    console.log('We are inside the scope of the if block:')\n",
    "    console.log('> d is for ' + d)\n",
    "    console.log('> e is for ' + e)\n",
    "    console.log('\\n')\n",
    "}\n",
    "\n",
    "console.log('We are at the default or root scope level:')\n",
    "console.log('> d is for ' + d)\n",
    "console.log('> e is for ' + e)"
   ]
  },
  {
   "cell_type": "markdown",
   "metadata": {},
   "source": [
    "Now block scope is operating the same as function scope and we can all sleep soundly at night. Hooray."
   ]
  },
  {
   "cell_type": "markdown",
   "metadata": {},
   "source": [
    "# Getting Loopy"
   ]
  },
  {
   "cell_type": "markdown",
   "metadata": {},
   "source": [
    "So we know that `let` and `var` operate differently in terms of scope. What happens if we use `var` when adding lazy loaded functions to an array, executing them at some later time?"
   ]
  },
  {
   "cell_type": "code",
   "execution_count": 5,
   "metadata": {},
   "outputs": [
    {
     "name": "stdout",
     "output_type": "stream",
     "text": [
      "3\n",
      "3\n",
      "3\n"
     ]
    }
   ],
   "source": [
    "var toBeExecuted = []\n",
    "\n",
    "for (var i=0; i<3; i++) {  \n",
    "  toBeExecuted.push(() => console.log(i))\n",
    "}\n",
    "\n",
    "toBeExecuted.forEach(lazyFn => lazyFn())"
   ]
  },
  {
   "cell_type": "markdown",
   "metadata": {},
   "source": [
    "What happened? Instead of creating a local variable `i` for each increment in the loop, it ended up printing the final value for that variable for all function calls."
   ]
  },
  {
   "cell_type": "markdown",
   "metadata": {},
   "source": [
    "It feels unexpected and although there are work-arounds for still using a `var` they can be a little verbose."
   ]
  },
  {
   "cell_type": "markdown",
   "metadata": {},
   "source": [
    "Enter the `let` keyword:"
   ]
  },
  {
   "cell_type": "code",
   "execution_count": 6,
   "metadata": {},
   "outputs": [
    {
     "name": "stdout",
     "output_type": "stream",
     "text": [
      "0\n",
      "1\n",
      "2\n"
     ]
    }
   ],
   "source": [
    "let letItBeExecuted = []\n",
    "\n",
    "for (let i=0; i<3; i++) {  \n",
    "  letItBeExecuted.push(() => console.log(i))\n",
    "}\n",
    "\n",
    "letItBeExecuted.forEach(lazyFn => lazyFn())"
   ]
  },
  {
   "cell_type": "markdown",
   "metadata": {},
   "source": [
    "Magic ✨"
   ]
  },
  {
   "cell_type": "markdown",
   "metadata": {},
   "source": [
    "# A Warning "
   ]
  },
  {
   "cell_type": "markdown",
   "metadata": {},
   "source": [
    "It's important to note that JS still compiles when you create a new variable, even if you don't specify `var`, `const`, or `let`. When you do so, it first searches the current scope for a variable of that name, then trickles up through parents layers. \n",
    "\n",
    "⚠️ If it doesn't find it all the way up to the root, it will create the variable there in the root layer, also known as a global variable. This is known as **\"polluting the global scope\"**.\n",
    "\n",
    "To avoid this place the string `\"use strict\"` at the top of the entry point file, causing a `ReferenceError` message if this is attempted. [This trick solves a whole host of other problems as well.](https://www.w3schools.com/js/js_strict.asp)"
   ]
  },
  {
   "cell_type": "code",
   "execution_count": 7,
   "metadata": {},
   "outputs": [
    {
     "ename": "ReferenceError",
     "evalue": "w is not defined",
     "output_type": "error",
     "traceback": [
      "evalmachine.<anonymous>:6",
      "console.log(w)",
      "            ^",
      "",
      "ReferenceError: w is not defined",
      "    at evalmachine.<anonymous>:6:13",
      "    at Script.runInThisContext (vm.js:96:20)",
      "    at Object.runInThisContext (vm.js:303:38)",
      "    at run ([eval]:1054:15)",
      "    at onRunRequest ([eval]:888:18)",
      "    at onMessage ([eval]:848:13)",
      "    at process.emit (events.js:182:13)",
      "    at emit (internal/child_process.js:812:12)",
      "    at process._tickCallback (internal/process/next_tick.js:63:19)"
     ]
    }
   ],
   "source": [
    "\"use strict\"\n",
    "function badFunction() {\n",
    "    w = 'watermelon'\n",
    "}\n",
    "\n",
    "console.log(w)"
   ]
  },
  {
   "cell_type": "markdown",
   "metadata": {},
   "source": [
    "# Digging Deeper"
   ]
  },
  {
   "cell_type": "markdown",
   "metadata": {},
   "source": [
    "JavaScript allows for nesting functions, and for passing functions aroung like variables. So what happens when nested functions take advantage of their parent scope variables before being passed into and executed by the root layer (or any layer outside of that scope) where these variables should not be accessible?"
   ]
  },
  {
   "cell_type": "code",
   "execution_count": 11,
   "metadata": {},
   "outputs": [
    {
     "name": "stdout",
     "output_type": "stream",
     "text": [
      "a is for aparagus\n"
     ]
    }
   ],
   "source": [
    "function veggieVendor() {\n",
    "    var a = 'aparagus'\n",
    "    \n",
    "    function innerFunction() { \n",
    "        console.log('a is for ' + a)\n",
    "    }\n",
    "    \n",
    "    return innerFunction\n",
    "}\n",
    "\n",
    "var printVeggie = veggieVendor()\n",
    "printVeggie()"
   ]
  },
  {
   "cell_type": "markdown",
   "metadata": {},
   "source": [
    "This example is taking advantage of the **lexical scope** model used by JavaScript. You can think of lexical scope as being \"when identifiers are scoped to functions\"."
   ]
  },
  {
   "cell_type": "markdown",
   "metadata": {},
   "source": [
    "To try to understand what this is or how this happens we need to dig a little deeper into the mechanics of JavaScript. As, although it is referred to as an *interpreted* language, JavaScript does compile code immediately before executing it, nad for this reason it can also be called a *just-in-time compiled* language. "
   ]
  },
  {
   "cell_type": "markdown",
   "metadata": {},
   "source": [
    "The **lexing phase** of compilation finds where and how all identifiers are declared, and how they will be looked up during execution. So the JavaScript engine is aware of these before execution."
   ]
  },
  {
   "cell_type": "markdown",
   "metadata": {},
   "source": [
    "For example the statement: `var a = \"apple\"` is split into two separate steps at lexing time:\n",
    "\n",
    "   - `var a`       This declares the variable in the scope, before code execution.\n",
    "   - `a = \"apple\"` This assigns the string value to the variable a, if it is found within the available scope.\n"
   ]
  }
 ],
 "metadata": {
  "kernelspec": {
   "display_name": "Javascript (Node.js)",
   "language": "javascript",
   "name": "javascript"
  },
  "language_info": {
   "file_extension": ".js",
   "mimetype": "application/javascript",
   "name": "javascript",
   "version": "10.13.0"
  }
 },
 "nbformat": 4,
 "nbformat_minor": 2
}
