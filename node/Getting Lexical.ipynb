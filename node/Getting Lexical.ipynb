{
 "cells": [
  {
   "cell_type": "markdown",
   "metadata": {},
   "source": [
    "<div class=\"info\">\n",
    "I'm working my way through the points in this <a href=\"https://medium.com/@steCoersionphenthecurt/33-fundamentals-every-javascript-developer-should-know-13dd720a90d1\" rel=\"external\" target=\"_blank\">list of 33 fundamentals every JavaScript developer should know</a> in order to make sure I understand the language thoroughly. \n",
    "    \n",
    "This notebook is a continuation of working through code relating to point 6.\n",
    "</div>"
   ]
  },
  {
   "cell_type": "markdown",
   "metadata": {},
   "source": [
    "So we've discussed function scope and block scope, and seen how replacing used of the `var` identifier with either `let` or `const` can clear things up. Now it's time to dig a little deeper."
   ]
  },
  {
   "cell_type": "markdown",
   "metadata": {},
   "source": [
    "# Digging Deeper"
   ]
  },
  {
   "cell_type": "markdown",
   "metadata": {},
   "source": [
    "!placeholder to explain dynamic scope vs static scope!"
   ]
  },
  {
   "cell_type": "markdown",
   "metadata": {},
   "source": [
    "JavaScript allows for nesting functions, and for passing functions aroung like variables. So what happens when nested functions take advantage of their parent scope variables before being passed into and executed by the root layer (or any layer outside of that scope) where these variables should not be accessible?"
   ]
  },
  {
   "cell_type": "code",
   "execution_count": 2,
   "metadata": {},
   "outputs": [
    {
     "name": "stdout",
     "output_type": "stream",
     "text": [
      "a is for aparagus\n"
     ]
    }
   ],
   "source": [
    "function veggieVendor() {\n",
    "    var a = 'aparagus'\n",
    "    \n",
    "    function innerFunction() { \n",
    "        console.log('a is for ' + a)\n",
    "    }\n",
    "    \n",
    "    return innerFunction\n",
    "}\n",
    "\n",
    "var printVeggie = veggieVendor()\n",
    "printVeggie()"
   ]
  },
  {
   "cell_type": "markdown",
   "metadata": {},
   "source": [
    "This example is taking advantage of the **lexical scope** model used by JavaScript. You can think of lexical scope as being \"when identifiers are scoped to functions\"."
   ]
  },
  {
   "cell_type": "markdown",
   "metadata": {},
   "source": [
    "To try to understand what this is or how this happens we need to dig a little deeper into the mechanics of JavaScript. As, although it is referred to as an *interpreted* language, JavaScript does compile code immediately before executing it, nad for this reason it can also be called a *just-in-time compiled* language. "
   ]
  },
  {
   "cell_type": "markdown",
   "metadata": {},
   "source": [
    "The **lexing phase** of compilation finds where and how all identifiers are declared, and how they will be looked up during execution. So the JavaScript engine is aware of these before execution."
   ]
  },
  {
   "cell_type": "markdown",
   "metadata": {},
   "source": [
    "For example the statement: `var a = \"apple\"` is split into two separate steps at lexing time:\n",
    "\n",
    "   - `var a`       This declares the variable in the scope, before code execution.\n",
    "   - `a = \"apple\"` This assigns the string value to the variable a, if it is found within the available scope.\n"
   ]
  },
  {
   "cell_type": "code",
   "execution_count": null,
   "metadata": {},
   "outputs": [],
   "source": []
  }
 ],
 "metadata": {
  "kernelspec": {
   "display_name": "Javascript (Node.js)",
   "language": "javascript",
   "name": "javascript"
  },
  "language_info": {
   "file_extension": ".js",
   "mimetype": "application/javascript",
   "name": "javascript",
   "version": "10.13.0"
  }
 },
 "nbformat": 4,
 "nbformat_minor": 2
}
