{
 "cells": [
  {
   "cell_type": "markdown",
   "metadata": {},
   "source": [
    "For generating my blog I need to load all the partials templates into variables of particular names so I can feed them into my <a href=\"https://mustache.github.io/mustache.5.html\" rel=\"external\" target=\"_blank\">Mustache</a> templates."
   ]
  },
  {
   "cell_type": "markdown",
   "metadata": {},
   "source": [
    "First I load all the files in my partials directory into an array of filenames. I strip the file extension from them so I have all the strings I want to use as my variable names:"
   ]
  },
  {
   "cell_type": "code",
   "execution_count": 1,
   "metadata": {},
   "outputs": [],
   "source": [
    "const partialFiles = fs.readdirSync('./partials/').reduce((partials, file) => {\n",
    "    const ext = path.extname(file)\n",
    "    if (ext=='.mustache') {\n",
    "        return partials.concat(path.basename(file, ext))\n",
    "    }\n",
    "        return partials\n",
    "}, [])"
   ]
  },
  {
   "cell_type": "code",
   "execution_count": 2,
   "metadata": {},
   "outputs": [
    {
     "data": {
      "text/plain": [
       "[ 'archive-head-meta',\n",
       "  'archive',\n",
       "  'blog-post',\n",
       "  'head-meta',\n",
       "  'header',\n",
       "  'post-footer',\n",
       "  'post-head-meta',\n",
       "  'post-header',\n",
       "  'post-meta',\n",
       "  'post',\n",
       "  'web-page-meta' ]"
      ]
     },
     "execution_count": 2,
     "metadata": {},
     "output_type": "execute_result"
    }
   ],
   "source": [
    "partialFiles"
   ]
  },
  {
   "cell_type": "markdown",
   "metadata": {},
   "source": [
    "Now I want to load the contents of each of these files into a variable of the same name. Well, since these names have '-' character in them I could never really do that, _but_ that doesn't really matter in this case because I can stick them all in an object and have the filenames as the key and my file contents as the value."
   ]
  },
  {
   "cell_type": "code",
   "execution_count": 3,
   "metadata": {},
   "outputs": [],
   "source": [
    "function getPartialTemplate(partialFileName) {\n",
    "  return fs.readFileSync(path.join(__dirname, 'partials', `${partialFileName}.mustache`)).toString()\n",
    "}\n",
    "\n",
    "function addPartialTemplate(obj, partialFileName) {\n",
    "  return Object.assign(obj, {\n",
    "    [partialFileName]: getPartialTemplate(partialFileName)\n",
    "  })\n",
    "}\n",
    "\n",
    "const partials = partialFiles.reduce(addPartialTemplate, {})"
   ]
  },
  {
   "cell_type": "code",
   "execution_count": 4,
   "metadata": {},
   "outputs": [
    {
     "data": {
      "text/plain": [
       "'<link href=\"/css/about.css\" rel=\"stylesheet\" type=\"text/css\">\\n'"
      ]
     },
     "execution_count": 4,
     "metadata": {},
     "output_type": "execute_result"
    }
   ],
   "source": [
    "partials['web-page-meta']"
   ]
  },
  {
   "cell_type": "code",
   "execution_count": 5,
   "metadata": {},
   "outputs": [
    {
     "data": {
      "text/plain": [
       "'<article itemscope itemtype=\"http://schema.org/Article\">\\n  <div class=\"post-block\">\\n    <link itemprop=\"mainEntityOfPage\" href=\"http://hello-klol.github.io/{{& datePath}}\">\\n\\n    {{> post-meta}}\\n    {{> post-header}}\\n\\n    <div class=\"post-body\" itemprop=\"articleBody\">\\n      {{{ content }}}\\n    </div>\\n\\n    {{> post-footer}}\\n  </div>\\n</article>\\n'"
      ]
     },
     "execution_count": 5,
     "metadata": {},
     "output_type": "execute_result"
    }
   ],
   "source": [
    "partials.post"
   ]
  },
  {
   "cell_type": "markdown",
   "metadata": {},
   "source": [
    "This object can now be passed to Mustache and the partials can be identified by their filename without me having to specify names anywhere in the code. This is handy because as I add more partials I won't need to change the code - just make adjustments to my template files."
   ]
  }
 ],
 "metadata": {
  "kernelspec": {
   "display_name": "Javascript (Node.js)",
   "language": "javascript",
   "name": "javascript"
  },
  "language_info": {
   "file_extension": ".js",
   "mimetype": "application/javascript",
   "name": "javascript",
   "version": "10.6.0"
  }
 },
 "nbformat": 4,
 "nbformat_minor": 2
}
