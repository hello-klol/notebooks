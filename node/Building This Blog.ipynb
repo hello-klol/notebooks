{
 "cells": [
  {
   "cell_type": "markdown",
   "metadata": {},
   "source": [
    "## Why build my own static site generator?"
   ]
  },
  {
   "cell_type": "markdown",
   "metadata": {},
   "source": [
    "This blog has been an exercise in learning JavaScript. Previously I was building static pages using Hexo with the Next theme (the look of this blog has many elements of the Next theme copied). \n",
    "\n",
    "Hexo has so many features and special effects which is cool, but also confusing. I wasn't able to easily customise it - like for the main pages which aren't part of my blog, or for displaying Jupyter Notebooks which I use a lot for making notes when learning new things.\n",
    "\n",
    "As Hexo is just a static page site generator, I decided to build my own very simplified version of it. This way I would know how every part of it worked and have complete control to make it look how I wanted. I've lost a couple of features that I can one day add back in, such as comments from Disqus, and Google Analytics tags applied to each page, also I lost all the animations. But now I can post any custom type of page I like and have made code to convert Jupyter Notebook's and display them nicely."
   ]
  },
  {
   "cell_type": "markdown",
   "metadata": {},
   "source": [
    "## The Structure"
   ]
  },
  {
   "cell_type": "markdown",
   "metadata": {},
   "source": [
    "The main components of the site are split into templates and use a library called <a href=\"https://mustache.github.io/mustache.5.html\" rel=\"external\" target=\"_blank\">`Mustache`</a> to piece them together to create my static site. \n",
    "\n",
    "I have a bunch of `partials` that sit in their own folder - like the header and nav bar that appear on every page, and the navigation footer that is at the end of every post. \n",
    "\n",
    "I have three main `templates` at the moment which are the main types of page I might display, these are my **main pages** - simple pages that only contain the header and nav bar, my **archive page** that lists all blog posts, and my **blog-post pages** which includes the nav footer."
   ]
  },
  {
   "cell_type": "markdown",
   "metadata": {},
   "source": [
    "As I create new posts and pages I add them to a `source` directory and reference them in a `config file` which is basically just a  big JSON object. The config contains the page title, type, post-date, and path to source file. "
   ]
  },
  {
   "cell_type": "markdown",
   "metadata": {},
   "source": [
    "Finally there is the script! The script reads loads all templates in the `partials` and `templates` directories, then loops through the config generating a new page for each entry, placing them in a `public` folder."
   ]
  },
  {
   "cell_type": "markdown",
   "metadata": {},
   "source": [
    "There are also additional files to be copied to the public folder like `css`,`images`,`pdfs`,`js` etc"
   ]
  },
  {
   "cell_type": "code",
   "execution_count": null,
   "metadata": {},
   "outputs": [],
   "source": [
    "blogPosts.js // Config file of blog posts to be generated\n",
    "siteGenerator.js // Script to be run in Node to convert all content into HTML\n",
    "\n",
    "/ partials\n",
    "      header.mustache\n",
    "      footer.mutache\n",
    "/ templates\n",
    "      mainPage.mustache\n",
    "      archive.mustache\n",
    "      blogPost.mustache\n",
    "/ source\n",
    "    / images\n",
    "    / pdfs\n",
    "    / blogPosts\n",
    "        myNotebook.html\n",
    "/ public\n",
    "  ..."
   ]
  },
  {
   "cell_type": "markdown",
   "metadata": {},
   "source": [
    "## Mustache"
   ]
  },
  {
   "cell_type": "markdown",
   "metadata": {},
   "source": [
    "There's not much to building `Mustache` templates, they're just HTML with a few additional tags for places to insert partials or variables. Here's a few examples of the different things you can insert:"
   ]
  },
  {
   "cell_type": "markdown",
   "metadata": {},
   "source": [
    "#### Strings"
   ]
  },
  {
   "cell_type": "markdown",
   "metadata": {},
   "source": [
    "Double-curlies"
   ]
  },
  {
   "cell_type": "code",
   "execution_count": null,
   "metadata": {},
   "outputs": [],
   "source": [
    "var titleVarName = \"Home Page\""
   ]
  },
  {
   "cell_type": "markdown",
   "metadata": {},
   "source": [
    "`example.mustache`:"
   ]
  },
  {
   "cell_type": "code",
   "execution_count": null,
   "metadata": {},
   "outputs": [],
   "source": [
    "<html>\n",
    "    <head>\n",
    "        <title>{{titleVarName}}</title>\n",
    "    </head>\n",
    "    <body>\n",
    "    ..."
   ]
  },
  {
   "cell_type": "markdown",
   "metadata": {},
   "source": [
    "#### HTML"
   ]
  },
  {
   "cell_type": "markdown",
   "metadata": {},
   "source": [
    "Triple-curlies"
   ]
  },
  {
   "cell_type": "code",
   "execution_count": null,
   "metadata": {},
   "outputs": [],
   "source": [
    "var mainContentHTML = \"<p>Welcome to my website<br/>Take a look around</p>\""
   ]
  },
  {
   "cell_type": "markdown",
   "metadata": {},
   "source": [
    "`example.mustache`:"
   ]
  },
  {
   "cell_type": "code",
   "execution_count": null,
   "metadata": {},
   "outputs": [],
   "source": [
    "    ...\n",
    "    <body>\n",
    "      {{{mainContentHTML}}}\n",
    "    </body>\n",
    "</html>"
   ]
  },
  {
   "cell_type": "markdown",
   "metadata": {},
   "source": [
    "#### Partials"
   ]
  },
  {
   "cell_type": "markdown",
   "metadata": {},
   "source": [
    "Partials can be templates so need to be handled differently to HTML in order for variables to be passed into them."
   ]
  },
  {
   "cell_type": "code",
   "execution_count": null,
   "metadata": {},
   "outputs": [],
   "source": [
    "var headerPartial = \"<div>Welcome {{name}}. This is the header partial!</div>\""
   ]
  },
  {
   "cell_type": "markdown",
   "metadata": {},
   "source": [
    "`example.mustache`:"
   ]
  },
  {
   "cell_type": "code",
   "execution_count": null,
   "metadata": {},
   "outputs": [],
   "source": [
    "<body>\n",
    "  {{> headerPartial}}\n",
    "  ...\n",
    "</body>"
   ]
  },
  {
   "cell_type": "markdown",
   "metadata": {},
   "source": [
    "#### Links"
   ]
  },
  {
   "cell_type": "markdown",
   "metadata": {},
   "source": [
    "To avoid url escaping make sure to include ampersand:"
   ]
  },
  {
   "cell_type": "markdown",
   "metadata": {},
   "source": [
    "`example.mustache`:"
   ]
  },
  {
   "cell_type": "code",
   "execution_count": null,
   "metadata": {},
   "outputs": [],
   "source": [
    "...\n",
    "<link>\n",
    "  {{& linkPath}} \n",
    "</link>\n",
    "..."
   ]
  },
  {
   "cell_type": "markdown",
   "metadata": {},
   "source": [
    "#### Mustache Rendering"
   ]
  },
  {
   "cell_type": "code",
   "execution_count": null,
   "metadata": {},
   "outputs": [],
   "source": [
    "const template = fs.readFileSync(templatePath).toString()\n",
    "const contentVars = {'title': 'Archives', 'homePageLink': '/', 'contentHTML': contentFromFile}\n",
    "const partials = {'header': headerFromFile, 'footer': footerFromFile}"
   ]
  },
  {
   "cell_type": "code",
   "execution_count": null,
   "metadata": {},
   "outputs": [],
   "source": [
    "const renderedHTML = Mustache.render(template, contentVars, partials)"
   ]
  }
 ],
 "metadata": {
  "kernelspec": {
   "display_name": "Javascript (Node.js)",
   "language": "javascript",
   "name": "javascript"
  },
  "language_info": {
   "file_extension": ".js",
   "mimetype": "application/javascript",
   "name": "javascript",
   "version": "10.6.0"
  }
 },
 "nbformat": 4,
 "nbformat_minor": 2
}
