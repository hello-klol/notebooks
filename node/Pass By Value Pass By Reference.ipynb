{
 "cells": [
  {
   "cell_type": "markdown",
   "metadata": {},
   "source": [
    "<div class=\"info\">\n",
    "I'm working my way through the points in this <a href=\"https://medium.com/@steCoersionphenthecurt/33-fundamentals-every-javascript-developer-should-know-13dd720a90d1\" rel=\"external\" target=\"_blank\">list of 33 fundamentals every JavaScript developer should know</a> in order to make sure I understand the language thoroughly. \n",
    "    \n",
    "This notebook is for working through code relating to point 3.\n",
    "</div>"
   ]
  },
  {
   "cell_type": "markdown",
   "metadata": {},
   "source": [
    "## Exploring the effects of passing in values or references:"
   ]
  },
  {
   "cell_type": "markdown",
   "metadata": {},
   "source": [
    "Make a function that alters a value but doesn't return it from the function. \n",
    "\n",
    "**Expectation:** If passed a primitive / value then a new variable will be defined within the scope of the function and then thrown away. Our value won't change."
   ]
  },
  {
   "cell_type": "code",
   "execution_count": 1,
   "metadata": {},
   "outputs": [],
   "source": [
    "function mutate(value) {\n",
    "    value = value.toUpperCase()\n",
    "}"
   ]
  },
  {
   "cell_type": "code",
   "execution_count": 2,
   "metadata": {},
   "outputs": [],
   "source": [
    "var value = 'apple'"
   ]
  },
  {
   "cell_type": "code",
   "execution_count": 3,
   "metadata": {},
   "outputs": [
    {
     "name": "stdout",
     "output_type": "stream",
     "text": [
      "apple\n"
     ]
    }
   ],
   "source": [
    "mutate(value)\n",
    "console.log(value)"
   ]
  },
  {
   "cell_type": "markdown",
   "metadata": {},
   "source": [
    "What about when we have an object / reference and pass a value from the object to the function?"
   ]
  },
  {
   "cell_type": "code",
   "execution_count": 4,
   "metadata": {},
   "outputs": [],
   "source": [
    "var reference = {value: 'apple'}"
   ]
  },
  {
   "cell_type": "code",
   "execution_count": 5,
   "metadata": {},
   "outputs": [
    {
     "name": "stdout",
     "output_type": "stream",
     "text": [
      "apple\n"
     ]
    }
   ],
   "source": [
    "mutate(reference.value)\n",
    "console.log(reference.value)"
   ]
  },
  {
   "cell_type": "markdown",
   "metadata": {},
   "source": [
    "So when we use `reference.value` we're accessing the actual primitive in memory, not using or updating the reference."
   ]
  },
  {
   "cell_type": "markdown",
   "metadata": {},
   "source": [
    "Now to check how altering references work:\n",
    "\n",
    "**Expectation:** If passed an object / reference then a new pointer will be assigned to the reference for the value property, the pointer will reference memory containing the new primitive we have set."
   ]
  },
  {
   "cell_type": "code",
   "execution_count": 6,
   "metadata": {},
   "outputs": [],
   "source": [
    "function mutateReference(reference) {\n",
    "    reference.value = reference.value.toUpperCase()\n",
    "}"
   ]
  },
  {
   "cell_type": "code",
   "execution_count": 7,
   "metadata": {},
   "outputs": [
    {
     "name": "stdout",
     "output_type": "stream",
     "text": [
      "APPLE\n"
     ]
    }
   ],
   "source": [
    "mutateReference(reference)\n",
    "console.log(reference.value)"
   ]
  },
  {
   "cell_type": "markdown",
   "metadata": {},
   "source": [
    "So without returning anything from the function, we've mutated the state of the object."
   ]
  },
  {
   "cell_type": "markdown",
   "metadata": {},
   "source": [
    "What about reassigning the object itself instead of accessing and changing it's properties:"
   ]
  },
  {
   "cell_type": "code",
   "execution_count": 8,
   "metadata": {},
   "outputs": [],
   "source": [
    "function resetReference(reference) {\n",
    "    reference = {}\n",
    "}"
   ]
  },
  {
   "cell_type": "code",
   "execution_count": 9,
   "metadata": {},
   "outputs": [
    {
     "name": "stdout",
     "output_type": "stream",
     "text": [
      "{ value: 'APPLE' }\n"
     ]
    }
   ],
   "source": [
    "resetReference(reference)\n",
    "console.log(reference)"
   ]
  },
  {
   "cell_type": "markdown",
   "metadata": {},
   "source": [
    "`reference` hasn't been reset, changing the variable itself in this way will not work. \n",
    "\n",
    "There's a difference between mutating objects (changing their property references) and reassigning objects (completely replacing the variable reference). \n",
    "\n",
    "The object is reassigned within the scope of the function (like in the first example with a primitive) but it's not going to have any effect outside of the function."
   ]
  },
  {
   "cell_type": "markdown",
   "metadata": {},
   "source": [
    "### Exploring effects of copied variables:"
   ]
  },
  {
   "cell_type": "code",
   "execution_count": 40,
   "metadata": {},
   "outputs": [],
   "source": [
    "var value = 'apple'\n",
    "var value_copy = value\n",
    "var reference = {'value':'apple'}\n",
    "var reference_copy = reference"
   ]
  },
  {
   "cell_type": "markdown",
   "metadata": {},
   "source": [
    "**Expectation:** Changing `value_copy` won't have any effect on `value` as they're referencing different parts of memory. The primitive value has been completely copied when we created the new variable."
   ]
  },
  {
   "cell_type": "code",
   "execution_count": 41,
   "metadata": {},
   "outputs": [],
   "source": [
    "var value_copy = value_copy.toUpperCase()"
   ]
  },
  {
   "cell_type": "code",
   "execution_count": 42,
   "metadata": {},
   "outputs": [
    {
     "name": "stdout",
     "output_type": "stream",
     "text": [
      "value: apple\n",
      "value_copy: APPLE\n"
     ]
    }
   ],
   "source": [
    "console.log(`value: ${value}`)\n",
    "console.log(`value_copy: ${value_copy}`)"
   ]
  },
  {
   "cell_type": "markdown",
   "metadata": {},
   "source": [
    "Fairly obvious as we've completely reassigned the value of `value_copy`"
   ]
  },
  {
   "cell_type": "markdown",
   "metadata": {},
   "source": [
    "**Expectation:** Changing a property in `reference_copy` will change the property in `reference` since they're all just pointers in memory."
   ]
  },
  {
   "cell_type": "code",
   "execution_count": 43,
   "metadata": {},
   "outputs": [
    {
     "data": {
      "text/plain": [
       "'APPLE'"
      ]
     },
     "execution_count": 43,
     "metadata": {},
     "output_type": "execute_result"
    }
   ],
   "source": [
    "reference_copy.value = reference_copy.value.toUpperCase()"
   ]
  },
  {
   "cell_type": "code",
   "execution_count": 44,
   "metadata": {},
   "outputs": [
    {
     "name": "stdout",
     "output_type": "stream",
     "text": [
      "reference.value: APPLE\n",
      "reference_copy.value: APPLE\n"
     ]
    }
   ],
   "source": [
    "console.log(`reference.value: ${reference.value}`)\n",
    "console.log(`reference_copy.value: ${reference_copy.value}`)"
   ]
  },
  {
   "cell_type": "markdown",
   "metadata": {},
   "source": [
    "Reassigning properties in the object means the same part of memory is updated, but reassigning the `reference_copy` variable itself will not affect the original `reference`:"
   ]
  },
  {
   "cell_type": "code",
   "execution_count": 45,
   "metadata": {},
   "outputs": [
    {
     "data": {
      "text/plain": [
       "{}"
      ]
     },
     "execution_count": 45,
     "metadata": {},
     "output_type": "execute_result"
    }
   ],
   "source": [
    "reference_copy = {}"
   ]
  },
  {
   "cell_type": "code",
   "execution_count": 46,
   "metadata": {},
   "outputs": [
    {
     "name": "stdout",
     "output_type": "stream",
     "text": [
      "reference.value: APPLE\n",
      "reference_copy.value: undefined\n"
     ]
    }
   ],
   "source": [
    "console.log(`reference.value: ${reference.value}`)\n",
    "console.log(`reference_copy.value: ${reference_copy.value}`)"
   ]
  }
 ],
 "metadata": {
  "kernelspec": {
   "display_name": "Javascript (Node.js)",
   "language": "javascript",
   "name": "javascript"
  },
  "language_info": {
   "file_extension": ".js",
   "mimetype": "application/javascript",
   "name": "javascript",
   "version": "8.12.0"
  }
 },
 "nbformat": 4,
 "nbformat_minor": 2
}
