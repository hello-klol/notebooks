{
 "cells": [
  {
   "cell_type": "markdown",
   "metadata": {},
   "source": [
    "# Stochastic simulation of genetic circuits"
   ]
  },
  {
   "cell_type": "markdown",
   "metadata": {},
   "source": [
    "So this is based on a similar (read <a href=\"http://be150.caltech.edu/2016/handouts/gillespie_simulation.html\" target=\"_blank\">near identical script</a>)  \n",
    "I have adapted it to run with 2 more populations, this is where it is fucking up  \n",
    "I think there is an issue in the pop_  "
   ]
  },
  {
   "cell_type": "code",
   "execution_count": 1,
   "metadata": {},
   "outputs": [],
   "source": [
    "import   multiprocessing\n",
    "\n",
    "# NumPy and odeint, our workhorses http://be150.caltech.edu/2016/handouts/gillespie_simulation.html  \n",
    "import   numpy   as   np\n",
    "import   scipy.stats   as   st\n",
    "import   numba\n",
    "\n",
    "# Plotting modules  \n",
    "import   matplotlib.pyplot   as   plt\n",
    "import   seaborn   as   sns\n",
    "\n",
    "# Line profiler\n",
    "%load_ext line_profiler\n",
    "\n",
    "# This is to enable inline displays for the purposes of the tutorial  \n",
    "%matplotlib inline\n",
    "%config InlineBackend.figure_formats = {  'png'  ,   'retina'  }\n",
    "\n",
    "# JB's favorite Seaborn settings for notebooks  \n",
    "rc = {  'lines.linewidth'  :   2  , \n",
    "    'axes.labelsize'  :   18  , \n",
    "    'axes.titlesize'  :   18  , \n",
    "    'axes.facecolor'  :   'DFDFE5'  }\n",
    "sns.set_context(  'notebook'  ,   rc  =rc)\n",
    "sns.set_style(  'darkgrid'  ,   rc  =rc)"
   ]
  },
  {
   "cell_type": "markdown",
   "metadata": {},
   "source": [
    "This is the array from the orginal script. As you can see my needs are a bit more complex than a 2 player system.   "
   ]
  },
  {
   "cell_type": "code",
   "execution_count": 2,
   "metadata": {},
   "outputs": [],
   "source": [
    "# # Column 0 is change in m, column 1 is change in p\n",
    "# simple_update = np.array([[ 1,  0],\n",
    "#                           [-1,  0],\n",
    "#                           [ 0,  1],\n",
    "#                           [ 0, -1]], dtype=np.int)"
   ]
  },
  {
   "cell_type": "markdown",
   "metadata": {},
   "source": [
    "My array  "
   ]
  },
  {
   "cell_type": "code",
   "execution_count": 3,
   "metadata": {},
   "outputs": [],
   "source": [
    "simple_update = np.array([[  1  ,  0  ,  0  ,  0  ],\n",
    "                          [ -1  ,  0  ,  0  ,  0  ],\n",
    "                          [  0  ,  1  ,  0  ,  0  ],\n",
    "                          [  0  , -1  ,  0  ,  0  ],\n",
    "                          [  0  ,  0  ,  1  ,  0  ],\n",
    "                          [  0  , -1  ,  0  ,  0  ],\n",
    "                          [  0  ,  0  , -1  ,  0  ],\n",
    "                          [  0  ,  0  ,  0  ,  1  ],\n",
    "                          [  0  ,  0  ,  0  , -1  ],\n",
    "                          [  0  ,  0  , -1  ,  1  ]],  dtype=np.int)"
   ]
  },
  {
   "cell_type": "code",
   "execution_count": 38,
   "metadata": {},
   "outputs": [
    {
     "data": {
      "text/plain": [
       "(10, 4)"
      ]
     },
     "execution_count": 38,
     "metadata": {},
     "output_type": "execute_result"
    }
   ],
   "source": [
    "simple_update.shape"
   ]
  },
  {
   "cell_type": "markdown",
   "metadata": {},
   "source": [
    "Ori parameters for the model and population names.   \n",
    "The array called here is checked against the binary array from the last step, so in the ori file  \n",
    "The $\\beta_{m}$ for population {m} would be positive so the dimensionless equations are\n",
    "\n",
    "\n",
    "$$\\begin{align}\\frac{\\mathrm{d}m}{\\mathrm{d}t} &= \\beta_m - m\\end{align}$$\n",
    "\n",
    "$$\\begin{align}\\frac{\\mathrm{d}p}{\\mathrm{d}t} &= \\beta_p m - \\gamma p\\end{align}$$\n",
    "\n",
    "with $\\gamma = \\gamma_p/\\gamma_m$"
   ]
  },
  {
   "cell_type": "code",
   "execution_count": 4,
   "metadata": {},
   "outputs": [],
   "source": [
    "# def simple_propensity(params, population):\n",
    "#     \"\"\"\n",
    "#     Returns an array of propensities given a set of parameters\n",
    "#     and an array of populations.\n",
    "#     \"\"\"\n",
    "#     # Unpack parameters\n",
    "#     beta_m, beta_p, gamma = params\n",
    "    \n",
    "#     # Unpack population\n",
    "#     m, p = population\n",
    "    \n",
    "#     return np.array([beta_m, \n",
    "#                      m, \n",
    "#                      beta_p * m, \n",
    "#                      gamma * p])"
   ]
  },
  {
   "cell_type": "markdown",
   "metadata": {},
   "source": [
    "my paras and pop   "
   ]
  },
  {
   "cell_type": "code",
   "execution_count": 5,
   "metadata": {},
   "outputs": [],
   "source": [
    "def simple_propensity(params, population):\n",
    "    # Unpack parameters  \n",
    "    vs, vr, c, w, e, d, k, bu, mu , nu = params # `nu` is never used \n",
    "\n",
    "    # Unpack population  \n",
    "    R,S,Nr,P = population\n",
    "\n",
    "    return   np.array([w*(c-R), \n",
    "                 (vs*S+vr*Nr)*(R/(R+k))*e, \n",
    "                 vs*(R/(R+k))*S, \n",
    "                 d*S*P*(R/(R+k)),\n",
    "                 d*S*P*bu*(R/(R+k)),\n",
    "                 w*S,\n",
    "                 w*P,\n",
    "                 vr*(R/(R+k))*Nr,\n",
    "                 w*Nr,\n",
    "                 mu*S]) # I replace `m` with `mu` - I don't know if that's correct!"
   ]
  },
  {
   "cell_type": "code",
   "execution_count": 6,
   "metadata": {},
   "outputs": [],
   "source": [
    "def sample_discrete(probs):\n",
    "    \"\"\"\n",
    "    Randomly sample an index with probability given by probs.\n",
    "    \"\"\"\n",
    "    # Generate random number\n",
    "    q = np.random.rand()\n",
    "    \n",
    "    # Find index\n",
    "    i = 0\n",
    "    p_sum = 0.0\n",
    "    while p_sum < q:\n",
    "        p_sum += probs[i]\n",
    "        i += 1\n",
    "    return i - 1"
   ]
  },
  {
   "cell_type": "code",
   "execution_count": 7,
   "metadata": {},
   "outputs": [
    {
     "name": "stdout",
     "output_type": "stream",
     "text": [
      "\n",
      "Result from hand-coded method:\n",
      "1.98 µs ± 70.4 ns per loop (mean ± std. dev. of 7 runs, 1000000 loops each)\n"
     ]
    }
   ],
   "source": [
    "# # Make dummy probs\n",
    "# probs = np.array([0.1, 0.3, 0.4, 0.05, 0.15])\n",
    "\n",
    "# # print('Result from scipy.stats:')\n",
    "# # %timeit sample_discrete_scipy(probs)\n",
    "\n",
    "# print('\\nResult from hand-coded method:')\n",
    "# %timeit sample_discrete(probs)"
   ]
  },
  {
   "cell_type": "markdown",
   "metadata": {},
   "source": [
    "☝️ <i>Why does this sample method get called and timed like this? What's it's purpose?</i>"
   ]
  },
  {
   "cell_type": "code",
   "execution_count": 8,
   "metadata": {},
   "outputs": [],
   "source": [
    "# Function to draw time interval and choice of reaction\n",
    "def gillespie_draw(params, propensity_func, population):\n",
    "    \"\"\"\n",
    "    Draws a reaction and the time it took to do that reaction.\n",
    "    \"\"\"\n",
    "    # Compute propensities\n",
    "    props = propensity_func(params, population)\n",
    "    \n",
    "    # Sum of propensities\n",
    "    props_sum = props.sum()\n",
    "    \n",
    "    # Compute time\n",
    "    time = np.random.exponential(1.0 / props_sum)\n",
    "    \n",
    "    # Compute discrete probabilities of each reaction\n",
    "    rxn_probs = props / props_sum\n",
    "    \n",
    "    # Draw reaction from this distribution\n",
    "    rxn = sample_discrete(rxn_probs)\n",
    "    \n",
    "    return rxn, time"
   ]
  },
  {
   "cell_type": "markdown",
   "metadata": {},
   "source": [
    "so this is the function I think is giving me the headache. I think the pop_out is not the right size but I'm not sure what the update.shape does nor have to convince it to be an array with 4 cols   "
   ]
  },
  {
   "cell_type": "code",
   "execution_count": 12,
   "metadata": {},
   "outputs": [],
   "source": [
    "def gillespie_ssa(params, propensity_func, update, population_0, \n",
    "                  time_points):\n",
    "    \"\"\"\n",
    "    Uses the Gillespie stochastic simulation algorithm to sample\n",
    "    from proability distribution of particle counts over time.\n",
    "    \n",
    "    Parameters\n",
    "    ----------\n",
    "    params : arbitrary\n",
    "        The set of parameters to be passed to propensity_func.\n",
    "    propensity_func : function\n",
    "        Function of the form f(params, population) that takes the current\n",
    "        population of particle counts and return an array of propensities\n",
    "        for each reaction.\n",
    "    update : ndarray, shape (num_reactions, num_chemical_species)\n",
    "        Entry i, j gives the change in particle counts of species j\n",
    "        for chemical reaction i.\n",
    "    population_0 : array_like, shape (num_chemical_species)\n",
    "        Array of initial populations of all chemical species.\n",
    "    time_points : array_like, shape (num_time_points,)\n",
    "        Array of points in time for which to sample the probability\n",
    "        distribution.\n",
    "        \n",
    "    Returns\n",
    "    -------\n",
    "    sample : ndarray, shape (num_time_points, num_chemical_species)\n",
    "        Entry i, j is the count of chemical species j at time\n",
    "        time_points[i].\n",
    "    \"\"\"\n",
    "\n",
    "    # Initialize output\n",
    "    pop_out = np.empty((len(time_points), update.shape[1]), dtype=np.int)\n",
    "\n",
    "    # Initialize and perform simulation\n",
    "    i_time = 1\n",
    "    i = 0\n",
    "    t = time_points[0]\n",
    "    population = population_0.copy()\n",
    "    pop_out[0,:] = population\n",
    "    while i < len(time_points):\n",
    "        while t < time_points[i_time]:\n",
    "            # draw the event and time step\n",
    "            event, dt = gillespie_draw(params, propensity_func, population)\n",
    "            # Update the population\n",
    "            population_previous = population.copy()\n",
    "            population += update[event,:]\n",
    "                \n",
    "            # Increment time\n",
    "            t += dt\n",
    "\n",
    "        # Update the index\n",
    "        i = np.searchsorted(time_points > t, True)\n",
    "        \n",
    "        # Update the population\n",
    "        pop_out[i_time:min(i,len(time_points))] = population_previous\n",
    "        \n",
    "        # Increment index\n",
    "        i_time = i\n",
    "                           \n",
    "    return pop_out"
   ]
  },
  {
   "cell_type": "markdown",
   "metadata": {},
   "source": [
    "End of G's doc"
   ]
  },
  {
   "cell_type": "code",
   "execution_count": 37,
   "metadata": {},
   "outputs": [
    {
     "name": "stderr",
     "output_type": "stream",
     "text": [
      "/home/minnie/.pyenv/versions/jupyter3/lib/python3.6/site-packages/ipykernel_launcher.py:13: RuntimeWarning: divide by zero encountered in double_scalars\n",
      "  del sys.path[0]\n",
      "/home/minnie/.pyenv/versions/jupyter3/lib/python3.6/site-packages/ipykernel_launcher.py:16: RuntimeWarning: invalid value encountered in true_divide\n",
      "  app.launch_new_instance()\n"
     ]
    }
   ],
   "source": [
    "n_classes = simple_update.shape[1]\n",
    "# Specify parameters for calculation\n",
    "params = np.array([10, 2, 2, 2, 1, 2, 1, 0.4, 0.4, 0.4]) # values for [vs, vr, c, w, e, d, k, bu, mu, nu]\n",
    "if len(params)!=simple_update.shape[0]:\n",
    "    print('Update matrix and params length don\\'t match')\n",
    "\n",
    "time_points = np.linspace(0, 50, 101)\n",
    "population_0 = np.array([0]*n_classes) # To start you have 4 populations you want to initialize to 0\n",
    "n_simulations = 100\n",
    "\n",
    "# Seed random number generator for reproducibility\n",
    "np.random.seed(42)\n",
    "\n",
    "# Initialize output array\n",
    "pops = np.empty((n_simulations, len(time_points), n_classes))\n",
    "\n",
    "# Run the calculations\n",
    "for i in range(n_simulations):\n",
    "    pops[i,:,:] = gillespie_ssa(params, simple_propensity, simple_update,\n",
    "                                population_0, time_points)"
   ]
  },
  {
   "cell_type": "code",
   "execution_count": 33,
   "metadata": {},
   "outputs": [
    {
     "data": {
      "image/png": "[encoded data removed]",
      "text/plain": [
       "<Figure size 1008x360 with 2 Axes>"
      ]
     },
     "metadata": {
      "image/png": {
       "height": 348,
       "width": 997
      }
     },
     "output_type": "display_data"
    }
   ],
   "source": [
    "# Set up subplots\n",
    "fig, ax = plt.subplots(1, 2, figsize=(14, 5))\n",
    "\n",
    "# Plot mRNA trajectories\n",
    "for i in range(n_simulations):\n",
    "    ax[0].plot(time_points, pops[i,:,0], '-', lw=0.3, alpha=0.2, \n",
    "               color=sns.color_palette()[0])\n",
    "\n",
    "# Plot mRNA mean\n",
    "ax[0].plot(time_points, pops[:,:,0].mean(axis=0), '-', lw=6, \n",
    "           color=sns.color_palette()[2])\n",
    "\n",
    "# Plot protein trajectories\n",
    "for i in range(n_simulations):\n",
    "    ax[1].plot(time_points, pops[i,:,1], 'k-', lw=0.3, alpha=0.2,\n",
    "               color=sns.color_palette()[0])\n",
    "\n",
    "# Plot protein mean\n",
    "ax[1].plot(time_points, pops[:,:,1].mean(axis=0), 'r-', lw=6, \n",
    "           color=sns.color_palette()[2])\n",
    "\n",
    "# Label axes\n",
    "ax[0].set_xlabel('dimensionless time')\n",
    "ax[1].set_xlabel('dimensionless time')\n",
    "ax[0].set_ylabel('number of mRNAs')\n",
    "ax[1].set_ylabel('number of proteins')\n",
    "plt.tight_layout()"
   ]
  }
 ],
 "metadata": {
  "kernelspec": {
   "display_name": "Python 3",
   "language": "python",
   "name": "python3"
  },
  "language_info": {
   "codemirror_mode": {
    "name": "ipython",
    "version": 3
   },
   "file_extension": ".py",
   "mimetype": "text/x-python",
   "name": "python",
   "nbconvert_exporter": "python",
   "pygments_lexer": "ipython3",
   "version": "3.6.6"
  }
 },
 "nbformat": 4,
 "nbformat_minor": 2
}
