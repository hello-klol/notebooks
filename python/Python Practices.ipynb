{
 "cells": [
  {
   "cell_type": "markdown",
   "metadata": {
    "heading_collapsed": true
   },
   "source": [
    "# Named Tuples"
   ]
  },
  {
   "cell_type": "markdown",
   "metadata": {
    "hidden": true
   },
   "source": [
    "Standard tuple:"
   ]
  },
  {
   "cell_type": "code",
   "execution_count": 6,
   "metadata": {
    "hidden": true
   },
   "outputs": [
    {
     "name": "stdout",
     "output_type": "stream",
     "text": [
      "Bob is a 30 year old male\n",
      "Jane is a 50 year old female\n"
     ]
    }
   ],
   "source": [
    "bob = ('Bob', 30, 'male')\n",
    "jane = ('Jane', 50, 'female')\n",
    "\n",
    "for p in [bob, jane]:\n",
    "    print('%s is a %d year old %s' % p)"
   ]
  },
  {
   "cell_type": "markdown",
   "metadata": {
    "hidden": true
   },
   "source": [
    "Named tuple:"
   ]
  },
  {
   "cell_type": "code",
   "execution_count": 7,
   "metadata": {
    "hidden": true
   },
   "outputs": [
    {
     "name": "stdout",
     "output_type": "stream",
     "text": [
      "Bob is a 30 year old male\n",
      "Jane is a 50 year old female\n"
     ]
    }
   ],
   "source": [
    "from collections import namedtuple\n",
    "\n",
    "Person = namedtuple('Person', 'name age gender')\n",
    "\n",
    "bob = Person(name='Bob', age=30, gender='male')\n",
    "jane = Person(name='Jane', age=50, gender='female')\n",
    "\n",
    "for p in [bob, jane]:\n",
    "    print('%s is a %d year old %s' % p)"
   ]
  },
  {
   "cell_type": "markdown",
   "metadata": {
    "hidden": true
   },
   "source": [
    "Exploring the variables:"
   ]
  },
  {
   "cell_type": "code",
   "execution_count": 8,
   "metadata": {
    "hidden": true
   },
   "outputs": [
    {
     "data": {
      "text/plain": [
       "type"
      ]
     },
     "execution_count": 8,
     "metadata": {},
     "output_type": "execute_result"
    }
   ],
   "source": [
    "type(Person)"
   ]
  },
  {
   "cell_type": "code",
   "execution_count": 9,
   "metadata": {
    "hidden": true
   },
   "outputs": [
    {
     "data": {
      "text/plain": [
       "__main__.Person"
      ]
     },
     "execution_count": 9,
     "metadata": {},
     "output_type": "execute_result"
    }
   ],
   "source": [
    "type(bob)"
   ]
  },
  {
   "cell_type": "code",
   "execution_count": 10,
   "metadata": {
    "hidden": true
   },
   "outputs": [
    {
     "data": {
      "text/plain": [
       "Person(name='Bob', age=30, gender='male')"
      ]
     },
     "execution_count": 10,
     "metadata": {},
     "output_type": "execute_result"
    }
   ],
   "source": [
    "bob"
   ]
  },
  {
   "cell_type": "code",
   "execution_count": 11,
   "metadata": {
    "hidden": true
   },
   "outputs": [
    {
     "data": {
      "text/plain": [
       "'Jane'"
      ]
     },
     "execution_count": 11,
     "metadata": {},
     "output_type": "execute_result"
    }
   ],
   "source": [
    "jane.name"
   ]
  },
  {
   "cell_type": "markdown",
   "metadata": {
    "hidden": true
   },
   "source": [
    "Potential for error:"
   ]
  },
  {
   "cell_type": "code",
   "execution_count": 17,
   "metadata": {
    "hidden": true
   },
   "outputs": [
    {
     "name": "stdout",
     "output_type": "stream",
     "text": [
      "Type names and field names cannot be a keyword: 'class'\n",
      "Encountered duplicate field name: 'age'\n"
     ]
    }
   ],
   "source": [
    "try:\n",
    "    namedtuple('Person', 'name class age gender')\n",
    "except ValueError as e:\n",
    "    print(e)\n",
    "\n",
    "try:\n",
    "    namedtuple('Person', 'name age gender age')\n",
    "except ValueError as e:\n",
    "    print(e)"
   ]
  },
  {
   "cell_type": "markdown",
   "metadata": {
    "hidden": true
   },
   "source": [
    "How to handle this!"
   ]
  },
  {
   "cell_type": "code",
   "execution_count": 18,
   "metadata": {
    "hidden": true
   },
   "outputs": [
    {
     "name": "stdout",
     "output_type": "stream",
     "text": [
      "('name', '_1', 'age', 'gender')\n",
      "('name', 'age', 'gender', '_3')\n"
     ]
    }
   ],
   "source": [
    "keyword_example = namedtuple('Person', 'name class age gender', rename=True)\n",
    "duplicate_example = namedtuple('Person', 'name age gender age', rename=True)\n",
    "\n",
    "print(keyword_example._fields)\n",
    "print(duplicate_example._fields)"
   ]
  },
  {
   "cell_type": "markdown",
   "metadata": {},
   "source": [
    "# Generators"
   ]
  },
  {
   "cell_type": "markdown",
   "metadata": {},
   "source": [
    "Fibonacci generator - a classic:"
   ]
  },
  {
   "cell_type": "code",
   "execution_count": 19,
   "metadata": {},
   "outputs": [],
   "source": [
    "def fib_gen():\n",
    "    a, b = 0, 1\n",
    "    while True:\n",
    "        yield a\n",
    "        a, b = b, a+b"
   ]
  },
  {
   "cell_type": "markdown",
   "metadata": {},
   "source": [
    "Using it:"
   ]
  },
  {
   "cell_type": "code",
   "execution_count": 24,
   "metadata": {},
   "outputs": [
    {
     "data": {
      "text/plain": [
       "'0, 1, 1, 2, 3, 5, 8'"
      ]
     },
     "execution_count": 24,
     "metadata": {},
     "output_type": "execute_result"
    }
   ],
   "source": [
    "fibs = []\n",
    "for i in fib_gen():\n",
    "    if i>10:\n",
    "        break\n",
    "    fibs.append(i)\n",
    "    \n",
    "', '.join(map(str, fibs))"
   ]
  },
  {
   "cell_type": "markdown",
   "metadata": {},
   "source": [
    "Simple generator:"
   ]
  },
  {
   "cell_type": "code",
   "execution_count": 25,
   "metadata": {},
   "outputs": [],
   "source": [
    "squares = (x*x for x in range(100))"
   ]
  },
  {
   "cell_type": "code",
   "execution_count": 26,
   "metadata": {},
   "outputs": [
    {
     "data": {
      "text/plain": [
       "generator"
      ]
     },
     "execution_count": 26,
     "metadata": {},
     "output_type": "execute_result"
    }
   ],
   "source": [
    "type(squares)"
   ]
  },
  {
   "cell_type": "code",
   "execution_count": 27,
   "metadata": {},
   "outputs": [
    {
     "data": {
      "text/plain": [
       "328350"
      ]
     },
     "execution_count": 27,
     "metadata": {},
     "output_type": "execute_result"
    }
   ],
   "source": [
    "sum(squares)"
   ]
  },
  {
   "cell_type": "code",
   "execution_count": 28,
   "metadata": {},
   "outputs": [
    {
     "data": {
      "text/plain": [
       "0"
      ]
     },
     "execution_count": 28,
     "metadata": {},
     "output_type": "execute_result"
    }
   ],
   "source": [
    "sum(squares)"
   ]
  },
  {
   "cell_type": "markdown",
   "metadata": {},
   "source": [
    "We get a different result the second time as we've already yielded all values from the generator. We would have to redefine it to start over."
   ]
  },
  {
   "cell_type": "markdown",
   "metadata": {},
   "source": [
    "# Counter"
   ]
  },
  {
   "cell_type": "code",
   "execution_count": 29,
   "metadata": {},
   "outputs": [],
   "source": [
    "from collections import Counter"
   ]
  },
  {
   "cell_type": "markdown",
   "metadata": {},
   "source": [
    "Counter is a special type of dictionary. You could also use `defaultdict` with int param. It automatically counts occurences of unique values."
   ]
  },
  {
   "cell_type": "code",
   "execution_count": 31,
   "metadata": {},
   "outputs": [
    {
     "name": "stdout",
     "output_type": "stream",
     "text": [
      "Counter({'b': 1, 'l': 1, 'u': 1, 'e': 1})\n",
      "Counter({'l': 2, 'y': 1, 'e': 1, 'o': 1, 'w': 1})\n",
      "Counter({'a': 2, 'This': 1, 'is': 1, 'collection': 1, 'of': 1, 'words': 1, 'that': 1, 'form': 1, 'sentence': 1})\n"
     ]
    }
   ],
   "source": [
    "blue = Counter('blue')\n",
    "yellow = Counter('yellow')\n",
    "sentence = Counter(['This', 'is', 'a', 'collection', 'of', 'words', 'that', 'form', 'a', 'sentence'])\n",
    "\n",
    "print(blue)\n",
    "print(yellow)\n",
    "print(sentence)"
   ]
  },
  {
   "cell_type": "markdown",
   "metadata": {},
   "source": [
    "It has a few special functions built in:"
   ]
  },
  {
   "cell_type": "code",
   "execution_count": 37,
   "metadata": {},
   "outputs": [
    {
     "name": "stdout",
     "output_type": "stream",
     "text": [
      "[('l', 3), ('e', 2), ('b', 1)]\n"
     ]
    }
   ],
   "source": [
    "print((blue+yellow).most_common(3))"
   ]
  },
  {
   "cell_type": "markdown",
   "metadata": {
    "heading_collapsed": true
   },
   "source": [
    "# defaultdict"
   ]
  },
  {
   "cell_type": "markdown",
   "metadata": {
    "hidden": true
   },
   "source": [
    "`defaultdict` allows you to build a dict similar to a Counter, but you can also use other default values rather than just `int` too. When you lookup a key that doesn't exist in the dictionary it returns the default value instead of freaking out."
   ]
  },
  {
   "cell_type": "code",
   "execution_count": 38,
   "metadata": {
    "hidden": true
   },
   "outputs": [],
   "source": [
    "from collections import defaultdict"
   ]
  },
  {
   "cell_type": "code",
   "execution_count": 40,
   "metadata": {
    "hidden": true
   },
   "outputs": [
    {
     "name": "stdout",
     "output_type": "stream",
     "text": [
      "defaultdict(<function <lambda> at 0x731ee852d048>, {'a': 42})\n",
      "42\n",
      "Default Value\n"
     ]
    }
   ],
   "source": [
    "my_dict = defaultdict(lambda: 'Default Value')\n",
    "my_dict['a'] = 42\n",
    "\n",
    "print(my_dict)\n",
    "print(my_dict['a'])\n",
    "print(my_dict['b'])"
   ]
  },
  {
   "cell_type": "markdown",
   "metadata": {
    "hidden": true
   },
   "source": [
    "You can do some funky stuff with it too using recursion to build a tree:"
   ]
  },
  {
   "cell_type": "code",
   "execution_count": 41,
   "metadata": {
    "hidden": true
   },
   "outputs": [
    {
     "name": "stdout",
     "output_type": "stream",
     "text": [
      "{\n",
      "    \"Page\": {\n",
      "        \"Python\": {\n",
      "            \"defaultdict\": {\n",
      "                \"Title\": \"Using defaultdict\",\n",
      "                \"Subtitle\": \"I'm a tree!\"\n",
      "            }\n",
      "        },\n",
      "        \"Java\": null\n",
      "    }\n",
      "}\n"
     ]
    }
   ],
   "source": [
    "import json\n",
    "\n",
    "def tree():\n",
    "    return defaultdict(tree)\n",
    "\n",
    "root = tree()\n",
    "root['Page']['Python']['defaultdict']['Title'] = 'Using defaultdict'\n",
    "root['Page']['Python']['defaultdict']['Subtitle'] = 'I\\'m a tree!'\n",
    "root['Page']['Java'] = None\n",
    "\n",
    "print(json.dumps(root, indent=4))"
   ]
  },
  {
   "cell_type": "markdown",
   "metadata": {},
   "source": [
    "# itertools"
   ]
  },
  {
   "cell_type": "markdown",
   "metadata": {
    "heading_collapsed": true
   },
   "source": [
    "## permutations"
   ]
  },
  {
   "cell_type": "markdown",
   "metadata": {
    "hidden": true
   },
   "source": [
    "If we want to find all different ways we can select from a collection, taking the variation of orders into account:"
   ]
  },
  {
   "cell_type": "code",
   "execution_count": 5,
   "metadata": {
    "hidden": true
   },
   "outputs": [],
   "source": [
    "from itertools import permutations"
   ]
  },
  {
   "cell_type": "code",
   "execution_count": 43,
   "metadata": {
    "hidden": true
   },
   "outputs": [
    {
     "name": "stdout",
     "output_type": "stream",
     "text": [
      "(0, 1, 2)\n",
      "(0, 2, 1)\n",
      "(1, 0, 2)\n",
      "(1, 2, 0)\n",
      "(2, 0, 1)\n",
      "(2, 1, 0)\n"
     ]
    }
   ],
   "source": [
    "for p in permutations(range(3)):\n",
    "    print(p)"
   ]
  },
  {
   "cell_type": "markdown",
   "metadata": {
    "heading_collapsed": true
   },
   "source": [
    "## combinations"
   ]
  },
  {
   "cell_type": "markdown",
   "metadata": {
    "hidden": true
   },
   "source": [
    "Generate all possible ways selecting items from a collection where order doesn't matter:"
   ]
  },
  {
   "cell_type": "code",
   "execution_count": 2,
   "metadata": {
    "hidden": true
   },
   "outputs": [],
   "source": [
    "from itertools import combinations"
   ]
  },
  {
   "cell_type": "code",
   "execution_count": 7,
   "metadata": {
    "hidden": true
   },
   "outputs": [
    {
     "name": "stdout",
     "output_type": "stream",
     "text": [
      "(0, 1)\n",
      "(0, 2)\n",
      "(1, 2)\n"
     ]
    }
   ],
   "source": [
    "for p in combinations(range(3), 2):\n",
    "    print(p)"
   ]
  },
  {
   "cell_type": "markdown",
   "metadata": {
    "heading_collapsed": true
   },
   "source": [
    "## chain"
   ]
  },
  {
   "cell_type": "markdown",
   "metadata": {
    "hidden": true
   },
   "source": [
    "Chains together items from any type of iterable"
   ]
  },
  {
   "cell_type": "code",
   "execution_count": 8,
   "metadata": {
    "hidden": true
   },
   "outputs": [],
   "source": [
    "from itertools import chain"
   ]
  },
  {
   "cell_type": "code",
   "execution_count": 64,
   "metadata": {
    "hidden": true
   },
   "outputs": [
    {
     "name": "stdout",
     "output_type": "stream",
     "text": [
      "0, 1, 2, 25, 3, a, b, c, Text, tuple, S, t, r\n"
     ]
    }
   ],
   "source": [
    "ch = chain(range(3), [25, 3], {'a': 10, 'b': 20, 'c': 30}, ('Text', 'tuple'), 'Str')\n",
    "print(', '.join(map(str, ch)))"
   ]
  },
  {
   "cell_type": "markdown",
   "metadata": {
    "heading_collapsed": true
   },
   "source": [
    "# Packing / Unpacking"
   ]
  },
  {
   "cell_type": "markdown",
   "metadata": {
    "heading_collapsed": true,
    "hidden": true
   },
   "source": [
    "## unpacking - splatting"
   ]
  },
  {
   "cell_type": "markdown",
   "metadata": {
    "hidden": true
   },
   "source": [
    "The `*` operator is known as 'splat' which is fun"
   ]
  },
  {
   "cell_type": "code",
   "execution_count": 65,
   "metadata": {
    "hidden": true
   },
   "outputs": [
    {
     "name": "stdout",
     "output_type": "stream",
     "text": [
      "10\n",
      "[11, 12, 13, 14, 15, 16, 17, 18]\n",
      "19\n"
     ]
    }
   ],
   "source": [
    "a, *b, c = range(10,20)\n",
    "print(a)\n",
    "print(b)\n",
    "print(c)"
   ]
  },
  {
   "cell_type": "markdown",
   "metadata": {
    "hidden": true
   },
   "source": [
    "`*args` used for lists, `**kwargs` for dicts"
   ]
  },
  {
   "cell_type": "code",
   "execution_count": 88,
   "metadata": {
    "hidden": true
   },
   "outputs": [
    {
     "name": "stdout",
     "output_type": "stream",
     "text": [
      "Call unpacking using *args:\n",
      "[2, 3]\n",
      "3\n",
      "3\n",
      "\n",
      "Call unpacking using **kwargs\n",
      "{'count': 2, 'name': 'cats'}\n",
      "cats\n",
      "cats\n"
     ]
    }
   ],
   "source": [
    "def repeat(count, name):\n",
    "    for i in range(count):\n",
    "        print(name)\n",
    "\n",
    "print('Call unpacking using *args:')\n",
    "args = [min(x,3) for x in range(2,4)]\n",
    "print(args)\n",
    "repeat(*args)\n",
    "\n",
    "print()\n",
    "\n",
    "print('Call unpacking using **kwargs')\n",
    "kwargs = {'count': 2, 'name': 'cats'}\n",
    "print(kwargs)\n",
    "repeat(**kwargs)"
   ]
  },
  {
   "cell_type": "markdown",
   "metadata": {
    "heading_collapsed": true,
    "hidden": true
   },
   "source": [
    "## packing back up"
   ]
  },
  {
   "cell_type": "code",
   "execution_count": 90,
   "metadata": {
    "hidden": true
   },
   "outputs": [],
   "source": [
    "def packing_up(*args, **kwargs):\n",
    "    print('Args: ', args)\n",
    "    print('KwArgs: ', kwargs)"
   ]
  },
  {
   "cell_type": "code",
   "execution_count": 93,
   "metadata": {
    "hidden": true
   },
   "outputs": [
    {
     "name": "stdout",
     "output_type": "stream",
     "text": [
      "Args:  (3, 5, range(0, 2), 'test', ['tt', 'ee', 'ss', 'tt'])\n",
      "KwArgs:  {'name': 'this', 'property': 5}\n"
     ]
    }
   ],
   "source": [
    "packing_up(3, 5, range(2), 'test', [x*2 for x in 'test'], name='this', property=5)"
   ]
  },
  {
   "cell_type": "markdown",
   "metadata": {},
   "source": [
    "# Decorators"
   ]
  },
  {
   "cell_type": "markdown",
   "metadata": {
    "heading_collapsed": true
   },
   "source": [
    "## Creating a cache decorator"
   ]
  },
  {
   "cell_type": "markdown",
   "metadata": {
    "hidden": true
   },
   "source": [
    "A decorator takes a function as a paramter and returns a function that has been beautifully decorated :)"
   ]
  },
  {
   "cell_type": "code",
   "execution_count": 120,
   "metadata": {
    "hidden": true
   },
   "outputs": [
    {
     "name": "stdout",
     "output_type": "stream",
     "text": [
      "checking cache for 0\n",
      "adding 0 to cache\n",
      "fibbing 0\n",
      "checking cache for 1\n",
      "adding 1 to cache\n",
      "fibbing 1\n",
      "checking cache for 2\n",
      "adding 2 to cache\n",
      "fibbing 2\n",
      "checking cache for 1\n",
      "checking cache for 0\n",
      "checking cache for 3\n",
      "adding 3 to cache\n",
      "fibbing 3\n",
      "checking cache for 2\n",
      "checking cache for 1\n",
      "checking cache for 4\n",
      "adding 4 to cache\n",
      "fibbing 4\n",
      "checking cache for 3\n",
      "checking cache for 2\n",
      "[0, 1, 1, 2, 3]\n"
     ]
    }
   ],
   "source": [
    "def cache(fn):\n",
    "    cached_values = {}\n",
    "    def wrapping_fn(*args):\n",
    "        print('checking cache for %s' % args)\n",
    "        if args not in cached_values:\n",
    "            print('adding %s to cache' % args)\n",
    "            cached_values[args] = fn(*args)\n",
    "        return cached_values[args]\n",
    "    return wrapping_fn\n",
    "\n",
    "@cache\n",
    "def fibonacci(n):\n",
    "    print('fibbing %d' % n)\n",
    "    if n<2:\n",
    "        return n\n",
    "    return fibonacci(n-1)+fibonacci(n-2)\n",
    "\n",
    "print([fibonacci(n) for n in range(5)])"
   ]
  },
  {
   "cell_type": "markdown",
   "metadata": {
    "heading_collapsed": true
   },
   "source": [
    "## LRU_Cache"
   ]
  },
  {
   "cell_type": "markdown",
   "metadata": {
    "hidden": true
   },
   "source": [
    "Another approach to caching can be found in the `functools` module"
   ]
  },
  {
   "cell_type": "code",
   "execution_count": 110,
   "metadata": {
    "hidden": true
   },
   "outputs": [],
   "source": [
    "from functools import lru_cache"
   ]
  },
  {
   "cell_type": "code",
   "execution_count": 112,
   "metadata": {
    "hidden": true
   },
   "outputs": [
    {
     "name": "stdout",
     "output_type": "stream",
     "text": [
      "fibbing 0\n",
      "fibbing 1\n",
      "fibbing 2\n",
      "fibbing 3\n",
      "fibbing 4\n",
      "[0, 1, 1, 2, 3]\n"
     ]
    }
   ],
   "source": [
    "@lru_cache(maxsize=None)\n",
    "def fibonnaci_lru(n):\n",
    "    print('fibbing %d' % n)\n",
    "    if n<2:\n",
    "        return n\n",
    "    return fibonnaci_lru(n-1) + fibonnaci_lru(n-2)\n",
    "\n",
    "print([fibonnaci_lru(n) for n in range(5)])"
   ]
  },
  {
   "cell_type": "markdown",
   "metadata": {},
   "source": [
    "# Context Managers"
   ]
  },
  {
   "cell_type": "markdown",
   "metadata": {},
   "source": [
    "Context managers are good for managing resources, they allow for easy garbage collection"
   ]
  },
  {
   "cell_type": "code",
   "execution_count": 126,
   "metadata": {},
   "outputs": [
    {
     "name": "stdout",
     "output_type": "stream",
     "text": [
      "Primes: [2, 3, 5, 7, 11, 13, 17, 19, 23, 29, 31, 37, 41, 43, 47, 53, 59, 61, 67, 71, 73, 79, 83, 89, 97, 101, 103, 107, 109, 113, 127, 131, 137, 139, 149, 151, 157, 163, 167, 173, 179, 181, 191, 193, 197, 199, 211, 223, 227, 229, 233, 239, 241, 251, 257, 263, 269, 271, 277, 281, 283, 293, 307, 311, 313, 317, 331, 337, 347, 349, 353, 359, 367, 373, 379, 383, 389, 397, 401, 409, 419, 421, 431, 433, 439, 443, 449, 457, 461, 463, 467, 479, 487, 491, 499]\n",
      "This is my message about the elapsed time, it was 6.461143493652344ms\n"
     ]
    }
   ],
   "source": [
    "from time import time\n",
    "\n",
    "class Timer():\n",
    "    def __init__(self, message):\n",
    "        self.message = message\n",
    "        \n",
    "    def __enter__(self):\n",
    "        self.start = time()\n",
    "        \n",
    "    def __exit__(self, type, value, traceback):\n",
    "        elapsed_time = (time() - self.start) * 1000\n",
    "        print(self.message.format(elapsed_time))\n",
    "        \n",
    "with Timer(\"This is my message about the elapsed time, it was {}ms\"):\n",
    "    primes=[]\n",
    "    for x in range(2,500):\n",
    "        if not any(x%p==0 for p in primes):\n",
    "            primes.append(x)\n",
    "    print('Primes: {}'.format(primes))"
   ]
  },
  {
   "cell_type": "markdown",
   "metadata": {},
   "source": [
    "## Context manager decorator"
   ]
  },
  {
   "cell_type": "code",
   "execution_count": 2,
   "metadata": {},
   "outputs": [
    {
     "name": "stdout",
     "output_type": "stream",
     "text": [
      "Hiya\n",
      "\u001b[31mLines associated with the __enter__ method\n",
      "In colour!\n",
      "\u001b[0mLines associated with the __exit__ method\n",
      "Fin\n"
     ]
    }
   ],
   "source": [
    "from contextlib import contextmanager\n",
    "\n",
    "@contextmanager\n",
    "def coloured_output(color):\n",
    "    print(\"\\033[%sm\" % color, end=\"\")\n",
    "    print('Lines associated with the __enter__ method')\n",
    "    yield\n",
    "    print(\"\\033[0m\", end=\"\") \n",
    "    print('Lines associated with the __exit__ method')\n",
    "    \n",
    "    \n",
    "print('Hiya')\n",
    "with coloured_output(31):\n",
    "    print('In colour!')\n",
    "print('Fin')"
   ]
  },
  {
   "cell_type": "markdown",
   "metadata": {},
   "source": [
    "# Cmds"
   ]
  },
  {
   "cell_type": "code",
   "execution_count": 9,
   "metadata": {},
   "outputs": [
    {
     "name": "stdout",
     "output_type": "stream",
     "text": [
      "Median Length Of Words.ipynb  Python Practices.ipynb  Untitled.ipynb\r\n"
     ]
    }
   ],
   "source": [
    "!ls"
   ]
  },
  {
   "cell_type": "code",
   "execution_count": 11,
   "metadata": {},
   "outputs": [
    {
     "name": "stdout",
     "output_type": "stream",
     "text": [
      "setuptools                        39.0.1 \r\n"
     ]
    }
   ],
   "source": [
    "!pip list | grep setuptools"
   ]
  },
  {
   "cell_type": "markdown",
   "metadata": {},
   "source": [
    "# LaTeX"
   ]
  },
  {
   "cell_type": "code",
   "execution_count": 3,
   "metadata": {},
   "outputs": [
    {
     "data": {
      "text/latex": [
       "\\( P(A \\mid B) = \\frac{P(B \\mid A) \\, P(A)}{P(B)} \\)"
      ],
      "text/plain": [
       "<IPython.core.display.Latex object>"
      ]
     },
     "metadata": {},
     "output_type": "display_data"
    }
   ],
   "source": [
    "%%latex\n",
    "\\( P(A \\mid B) = \\frac{P(B \\mid A) \\, P(A)}{P(B)} \\)"
   ]
  },
  {
   "cell_type": "code",
   "execution_count": 6,
   "metadata": {},
   "outputs": [
    {
     "data": {
      "text/latex": [
       "$$e^x=\\sum_{i=0}^\\infty \\frac{1}{i!}x^i$$"
      ],
      "text/plain": [
       "<IPython.core.display.Latex object>"
      ]
     },
     "metadata": {},
     "output_type": "display_data"
    }
   ],
   "source": [
    "%%latex\n",
    "$$e^x=\\sum_{i=0}^\\infty \\frac{1}{i!}x^i$$"
   ]
  },
  {
   "cell_type": "markdown",
   "metadata": {},
   "source": [
    "Write a program that asks the user for a number n and prints the sum of the numbers 1 to n"
   ]
  },
  {
   "cell_type": "code",
   "execution_count": 3,
   "metadata": {},
   "outputs": [
    {
     "name": "stdout",
     "output_type": "stream",
     "text": [
      "6\n",
      "10\n"
     ]
    }
   ],
   "source": [
    "def sums(value):\n",
    "    if value==1:\n",
    "        return 1\n",
    "    return value + sums(value-1)\n",
    "\n",
    "print(sums(3))\n",
    "print(sums(4))"
   ]
  },
  {
   "cell_type": "markdown",
   "metadata": {},
   "source": [
    "Modify the previous program such that only multiples of three or five are considered in the sum, e.g. 3, 5, 6, 9, 10, 12, 15 for n=17"
   ]
  },
  {
   "cell_type": "code",
   "execution_count": 10,
   "metadata": {},
   "outputs": [
    {
     "name": "stdout",
     "output_type": "stream",
     "text": [
      "289\n",
      "44\n"
     ]
    }
   ],
   "source": [
    "vals = []\n",
    "def divs(value):\n",
    "    for n in range(value):\n",
    "        if value%3 or value%5:\n",
    "            vals.append(value)\n",
    "    print(sum(vals))\n",
    "    \n",
    "divs(17)\n",
    "print(sum([3,5,6,8,10,12]))"
   ]
  },
  {
   "cell_type": "code",
   "execution_count": 5,
   "metadata": {},
   "outputs": [
    {
     "name": "stdout",
     "output_type": "stream",
     "text": [
      "24\n"
     ]
    }
   ],
   "source": [
    "def factorial(value):\n",
    "    if value==2:\n",
    "        return value\n",
    "    return value*factorial(value-1)\n",
    "\n",
    "print(factorial(4))"
   ]
  },
  {
   "cell_type": "code",
   "execution_count": 7,
   "metadata": {},
   "outputs": [
    {
     "name": "stdout",
     "output_type": "stream",
     "text": [
      "3\n"
     ]
    }
   ],
   "source": [
    "def fibonacci(value):\n",
    "    if value<=1:\n",
    "        return value\n",
    "    return fibonacci(value-1) + fibonacci(value-2)\n",
    "\n",
    "print(fibonacci(4))"
   ]
  },
  {
   "cell_type": "markdown",
   "metadata": {},
   "source": [
    "Write a function that returns the largest element in a list."
   ]
  },
  {
   "cell_type": "code",
   "execution_count": 2,
   "metadata": {},
   "outputs": [
    {
     "data": {
      "text/plain": [
       "876"
      ]
     },
     "execution_count": 2,
     "metadata": {},
     "output_type": "execute_result"
    }
   ],
   "source": [
    "my_list = [5,54,23,876,234,212]\n",
    "max(my_list)"
   ]
  },
  {
   "cell_type": "code",
   "execution_count": 5,
   "metadata": {},
   "outputs": [
    {
     "data": {
      "text/plain": [
       "876"
      ]
     },
     "execution_count": 5,
     "metadata": {},
     "output_type": "execute_result"
    }
   ],
   "source": [
    "sorted(my_list)[-1]"
   ]
  },
  {
   "cell_type": "markdown",
   "metadata": {},
   "source": [
    "Write a function that returns the elements on odd positions in a list."
   ]
  },
  {
   "cell_type": "code",
   "execution_count": 6,
   "metadata": {},
   "outputs": [
    {
     "name": "stdout",
     "output_type": "stream",
     "text": [
      "54\n",
      "876\n",
      "212\n"
     ]
    }
   ],
   "source": [
    "for i in range(len(my_list)):\n",
    "    if i%2==1:\n",
    "        print(my_list[i])"
   ]
  },
  {
   "cell_type": "markdown",
   "metadata": {},
   "source": [
    "Write a function that tests whether a string is a palindrome."
   ]
  },
  {
   "cell_type": "code",
   "execution_count": 20,
   "metadata": {},
   "outputs": [
    {
     "name": "stdout",
     "output_type": "stream",
     "text": [
      "True\n"
     ]
    }
   ],
   "source": [
    "def is_palindrome(my_string):\n",
    "    is_it = True\n",
    "    for i in range(1, len(my_string)//2):\n",
    "        if my_string[i]!=my_string[-i-1]:\n",
    "            print(i)\n",
    "            print(my_string[i])\n",
    "            print(my_string[-i-1])\n",
    "            is_it = False\n",
    "    return is_it\n",
    "\n",
    "print(is_palindrome('racecar'))"
   ]
  },
  {
   "cell_type": "code",
   "execution_count": null,
   "metadata": {},
   "outputs": [],
   "source": []
  }
 ],
 "metadata": {
  "kernelspec": {
   "display_name": "Python 3",
   "language": "python",
   "name": "python3"
  },
  "language_info": {
   "codemirror_mode": {
    "name": "ipython",
    "version": 3
   },
   "file_extension": ".py",
   "mimetype": "text/x-python",
   "name": "python",
   "nbconvert_exporter": "python",
   "pygments_lexer": "ipython3",
   "version": "3.6.6"
  }
 },
 "nbformat": 4,
 "nbformat_minor": 2
}
