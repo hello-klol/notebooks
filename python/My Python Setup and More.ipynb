{
 "cells": [
  {
   "cell_type": "markdown",
   "metadata": {},
   "source": [
    "I've started using Jupyter Notebooks for making notes for everything I'm learning. Even JavaScript. From a quick Google, it looks like <a href=\"https://github.com/jupyter/jupyter/wiki/Jupyter-kernels\" rel=\"external\" target=\"_blank\">kernels are available</a> for most other commonly used programming languages too so I'll probably continue adding kernels and write notebooks for _everything_. \n",
    "\n",
    "Here's my setup:"
   ]
  },
  {
   "cell_type": "markdown",
   "metadata": {},
   "source": [
    "### JavaScipt Notebooks"
   ]
  },
  {
   "cell_type": "markdown",
   "metadata": {},
   "source": [
    "For JavaScript I just install a kernel from <a href=\"http://n-riesco.github.io/ijavascript/doc/usage.md.html\" rel=\"external\" target=\"_blank\">IJavaScript</a>. It relies on Jupyter Notebooks already being installed which I'll go into below, but it was as simple to set up as just installing it globally using Node."
   ]
  },
  {
   "cell_type": "markdown",
   "metadata": {},
   "source": [
    "Install Node using nvm"
   ]
  },
  {
   "cell_type": "code",
   "execution_count": null,
   "metadata": {},
   "outputs": [],
   "source": [
    "curl -o- https://raw.githubusercontent.com/creationix/nvm/v0.33.0/install.sh | bash\n",
    "source ~/.bashrc\n",
    "nvm install --lts"
   ]
  },
  {
   "cell_type": "markdown",
   "metadata": {},
   "source": [
    "LTS version of Node is required as there is a missing dependency when using v10 of Node with `ijsinstall` (<a href=\"https://github.com/n-riesco/ijavascript/issues/165\" rel=\"external\" target=\"_blank\">see issue</a>)\n",
    "\n",
    "Now install the IJavaScript kernel:"
   ]
  },
  {
   "cell_type": "code",
   "execution_count": null,
   "metadata": {},
   "outputs": [],
   "source": [
    "npm install -g ijavascript"
   ]
  },
  {
   "cell_type": "markdown",
   "metadata": {},
   "source": [
    "Next time `jupyter notebook` is run JavaScript will be listed as a kernel."
   ]
  },
  {
   "cell_type": "markdown",
   "metadata": {},
   "source": [
    "## Python Workspace Setup"
   ]
  },
  {
   "cell_type": "markdown",
   "metadata": {},
   "source": [
    "I try to only ever use Python3 these days but every now and then come across legacy code so need Python2.7 installed too. Here's my setup to try keep things clean. Most of the process was <a href=\"https://medium.com/@henriquebastos/the-definitive-guide-to-setup-my-python-workspace-628d68552e14\" rel=\"external\" target=\"_blank\">copied from here</a>.\n",
    "\n",
    "I use:"
   ]
  },
  {
   "cell_type": "markdown",
   "metadata": {},
   "source": [
    "1. <a href=\"https://github.com/pyenv/pyenv\" rel=\"external\" target=\"_blank\">`pyenv`</a> to install Python interpreters\n",
    "2. `pyenv-virtualenv` to manage virtualenvs \n",
    "3. `pyenv-virtualenvwrapper` to automate virtualenv management for my projects"
   ]
  },
  {
   "cell_type": "markdown",
   "metadata": {},
   "source": [
    "### Install PyEnv and Python Versions"
   ]
  },
  {
   "cell_type": "markdown",
   "metadata": {},
   "source": [
    "Before installing Python interpreters I first install the `pyenv` tools above."
   ]
  },
  {
   "cell_type": "markdown",
   "metadata": {},
   "source": [
    "`virtualenvwrapper` puts all virtualenvs in a one directory, and all project code into another."
   ]
  },
  {
   "cell_type": "markdown",
   "metadata": {},
   "source": [
    "- All my virtualenvs go in `~/.ve`\n",
    "\n",
    "- All my projects go in `~/workspace`"
   ]
  },
  {
   "cell_type": "markdown",
   "metadata": {},
   "source": [
    "`virtualenvwrapper` relies on a couple of variables which need to be exported in `.bashrc` to work. Initializing `pyenv` should also be added here."
   ]
  },
  {
   "cell_type": "code",
   "execution_count": 5,
   "metadata": {},
   "outputs": [],
   "source": [
    "export WORKON_HOME=~/.ve\n",
    "export PROJECT_HOME=~/workspace\n",
    "eval \"$(pyenv init -)\""
   ]
  },
  {
   "cell_type": "markdown",
   "metadata": {},
   "source": [
    "(Remember to reload the file after changes: `source ~/.bashrc`) \n",
    "\n",
    "Then use `pyenv` to install the interpreters that will be used globally. The script from the following repo simplifies getting the latest version avaialble."
   ]
  },
  {
   "cell_type": "code",
   "execution_count": null,
   "metadata": {},
   "outputs": [],
   "source": [
    "git clone https://github.com/momo-lab/pyenv-install-latest.git \"$(pyenv root)\"/plugins/pyenv-install-latest\n",
    "\n",
    "pyenv install-latest\n",
    "pyenv install-latest 2.7"
   ]
  },
  {
   "cell_type": "markdown",
   "metadata": {},
   "source": [
    "Or to specify precisely which version simply use"
   ]
  },
  {
   "cell_type": "code",
   "execution_count": null,
   "metadata": {},
   "outputs": [],
   "source": [
    "pyenv install 3.6.0\n",
    "pyenv install 2.7.13"
   ]
  },
  {
   "cell_type": "markdown",
   "metadata": {},
   "source": [
    "### Installing Jupyter"
   ]
  },
  {
   "cell_type": "markdown",
   "metadata": {},
   "source": [
    "`virtualenvs` are great for avoiding library conflict issues. But there are some things I'm not going to be installing multiple versions of - like Jupyter Notebook, and it's associated iPython consoles for Python3 and Python2. \n",
    "\n",
    "I'll still make separate virtual environments for these things, but I'll make them globally available via the PATH so I don't have to repeatedly install them for each new project I make."
   ]
  },
  {
   "cell_type": "markdown",
   "metadata": {},
   "source": [
    "#### Setup Jupyter and IPython for Python3"
   ]
  },
  {
   "cell_type": "markdown",
   "metadata": {},
   "source": [
    "When I install Jupyter on Python3 it will by default install iPython and the kernel too"
   ]
  },
  {
   "cell_type": "code",
   "execution_count": null,
   "metadata": {},
   "outputs": [],
   "source": [
    "pyenv virtualenv 3.6.6 ipython3\n",
    "\n",
    "pyenv activate ipython3\n",
    "pip install jupyter\n",
    "python -m ipykernel install --user\n",
    "pyenv deactivate"
   ]
  },
  {
   "cell_type": "markdown",
   "metadata": {},
   "source": [
    "#### Setup IPython for Python2"
   ]
  },
  {
   "cell_type": "markdown",
   "metadata": {},
   "source": [
    "For Python2 I only need to install iPython and the kernel"
   ]
  },
  {
   "cell_type": "code",
   "execution_count": null,
   "metadata": {},
   "outputs": [],
   "source": [
    "pyenv virtualenv 2.7.15 ipython2\n",
    "\n",
    "pyenv activate ipython2\n",
    "pip install ipykernel\n",
    "python -m ipykernel install --user\n",
    "pyenv deactivate"
   ]
  },
  {
   "cell_type": "markdown",
   "metadata": {},
   "source": [
    "#### Setup Kernel for Bash"
   ]
  },
  {
   "cell_type": "markdown",
   "metadata": {},
   "source": [
    "A bash kernel for Jupyter Notebooks is <a href=\"https://github.com/takluyver/bash_kernel\" rel=\"external\" target=\"_blank\">available here</a>. Executing bash in a notebook instead of directly in the terminal is good for keeping notes, creating a script that can be rerun, and keeping track of what's already happened. Sure I could just write a script, but this way I can write up what's happening with lovely Markdown. And yeah you can run bash in a Python kernel with magic but what if I don't want to."
   ]
  },
  {
   "cell_type": "code",
   "execution_count": null,
   "metadata": {},
   "outputs": [],
   "source": [
    "pyenv virtualenv 3.6.6 bash\n",
    "\n",
    "pyenv activate bash\n",
    "pip install ipykernel\n",
    "pip install bash_kernel\n",
    "python -m bash_kernel.install\n",
    "pyenv deactivate"
   ]
  },
  {
   "cell_type": "markdown",
   "metadata": {},
   "source": [
    "Now I add the above Python versions and virtualenvs to the PATH in order of priority so they can be accessed in the right order without having to activate any virtualenv. This means I can call `jupyter notebook` from anywhere and have access to the same kernel installs."
   ]
  },
  {
   "cell_type": "code",
   "execution_count": null,
   "metadata": {},
   "outputs": [],
   "source": [
    "pyenv global 3.6.0 2.7.13 ipython3 ipython2 bash"
   ]
  },
  {
   "cell_type": "markdown",
   "metadata": {},
   "source": [
    "### Creating new virtualenvs for projects"
   ]
  },
  {
   "cell_type": "markdown",
   "metadata": {},
   "source": [
    "This is where `pyenv-virtualenvwrapper` and the `~/workspace` directory come in. \n",
    "\n",
    "It's time to add the following to the bottom of the `~/.barshrc` file and reload (`source ~/.bashrc`):"
   ]
  },
  {
   "cell_type": "code",
   "execution_count": null,
   "metadata": {},
   "outputs": [],
   "source": [
    "pyenv virtualenvwrapper_lazy"
   ]
  },
  {
   "cell_type": "markdown",
   "metadata": {},
   "source": [
    "This will install `virtualenvwrapper`'s dependencies if they’re not present, and allows use of the <a href=\"https://virtualenvwrapper.readthedocs.io/en/latest/command_ref.html\" rel=\"external\" target=\"_blank\">virtualenvwrapper commands</a>."
   ]
  },
  {
   "cell_type": "markdown",
   "metadata": {},
   "source": [
    "#### New Project"
   ]
  },
  {
   "cell_type": "markdown",
   "metadata": {},
   "source": [
    "For example, now if I run:"
   ]
  },
  {
   "cell_type": "code",
   "execution_count": null,
   "metadata": {},
   "outputs": [],
   "source": [
    "mkproject myProject"
   ]
  },
  {
   "cell_type": "markdown",
   "metadata": {},
   "source": [
    "An empty project directory will be created at `~/workspace/myProject` and we will be relocated to this directory. A new virtualenv of the same name which has been stored in `~/.ve/myProject` will be activated. By default the virtualenv is made with Python3."
   ]
  },
  {
   "cell_type": "markdown",
   "metadata": {},
   "source": [
    "#### Existing Project"
   ]
  },
  {
   "cell_type": "markdown",
   "metadata": {},
   "source": [
    "If I want to work on an existing project which has already been set up using the method described above I can run:"
   ]
  },
  {
   "cell_type": "code",
   "execution_count": null,
   "metadata": {},
   "outputs": [],
   "source": [
    "workon myProject"
   ]
  },
  {
   "cell_type": "markdown",
   "metadata": {},
   "source": [
    "And I'll again be transported to the relevant project directory in `~/workspace` with the project's virtualenv activated."
   ]
  },
  {
   "cell_type": "markdown",
   "metadata": {},
   "source": [
    "#### Python2 Project"
   ]
  },
  {
   "cell_type": "markdown",
   "metadata": {},
   "source": [
    "If I've cloned a project which runs on Python2 to my workspace `~/workspace/myProject` and I need a virtualenv to work on it. "
   ]
  },
  {
   "cell_type": "code",
   "execution_count": null,
   "metadata": {},
   "outputs": [],
   "source": [
    "mkvirtualenv -a ~/workspace/myProject -p python2 myProject"
   ]
  },
  {
   "cell_type": "markdown",
   "metadata": {},
   "source": [
    "The above creates a virtualenv using Python2 at `~/.ve/myProject` and associates it to the project directory `~/workspace/myProject`. \n",
    "\n",
    "Now running"
   ]
  },
  {
   "cell_type": "code",
   "execution_count": null,
   "metadata": {},
   "outputs": [],
   "source": [
    "workon myProject"
   ]
  },
  {
   "cell_type": "markdown",
   "metadata": {},
   "source": [
    "Activates the virtualenv and changes the directory to the project's path"
   ]
  },
  {
   "cell_type": "markdown",
   "metadata": {},
   "source": [
    "### Getting Jupyter to Detect the Active `virtualenv`"
   ]
  },
  {
   "cell_type": "markdown",
   "metadata": {},
   "source": [
    "For this, I copy a trick from the author of <a href=\"https://medium.com/@henriquebastos/the-definitive-guide-to-setup-my-python-workspace-628d68552e14#c222\" rel=\"external\" target=\"_blank\">this article</a>."
   ]
  },
  {
   "cell_type": "code",
   "execution_count": null,
   "metadata": {},
   "outputs": [],
   "source": [
    "ipython profile create\n",
    "curl -L http://hbn.link/hb-ipython-startup-script > ~/.ipython/profile_default/startup/00-venv-sitepackages.py"
   ]
  },
  {
   "cell_type": "markdown",
   "metadata": {},
   "source": [
    "This cusomizes iPython's startup process and adds the active virualenvs site-packages to the system path."
   ]
  },
  {
   "cell_type": "markdown",
   "metadata": {},
   "source": [
    "I've only recently started using this hack - beforehand I installed `ipykernels` in every virtualenv so different kernels would be listed for every virtualenv (and every project) I had. This allows working with two different virtualenvs in two different notebooks at the same time, but the list did begin to get out-of-hand. \n",
    "\n",
    "For now, I'm testing out this method, which only allows working with one virtualenv kernel at a time. So far I've not had any problems."
   ]
  }
 ],
 "metadata": {
  "kernelspec": {
   "display_name": "Bash",
   "language": "bash",
   "name": "bash"
  },
  "language_info": {
   "codemirror_mode": "shell",
   "file_extension": ".sh",
   "mimetype": "text/x-sh",
   "name": "bash"
  }
 },
 "nbformat": 4,
 "nbformat_minor": 2
}
